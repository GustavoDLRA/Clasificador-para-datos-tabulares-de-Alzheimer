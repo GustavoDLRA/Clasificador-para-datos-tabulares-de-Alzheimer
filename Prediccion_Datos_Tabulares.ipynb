{
  "nbformat": 4,
  "nbformat_minor": 0,
  "metadata": {
    "colab": {
      "name": "Prediccion_Datos_Tabulares.ipynb",
      "provenance": [],
      "collapsed_sections": [],
      "include_colab_link": true
    },
    "kernelspec": {
      "name": "python3",
      "display_name": "Python 3"
    },
    "language_info": {
      "name": "python"
    }
  },
  "cells": [
    {
      "cell_type": "markdown",
      "metadata": {
        "id": "view-in-github",
        "colab_type": "text"
      },
      "source": [
        "<a href=\"https://colab.research.google.com/github/GustavoDLRA/Clasificador-para-datos-tabulares-de-Alzheimer/blob/main/Prediccion_Datos_Tabulares.ipynb\" target=\"_parent\"><img src=\"https://colab.research.google.com/assets/colab-badge.svg\" alt=\"Open In Colab\"/></a>"
      ]
    },
    {
      "cell_type": "markdown",
      "metadata": {
        "id": "IlYh3XfrIjrS"
      },
      "source": [
        "**Predicción de Alzheimer utilizando datos tabulares**\n",
        "\n",
        "Proyecto de datos Tabulares\n",
        "\n",
        "Daniel Cabrera Lozoya\n",
        "\n",
        "Equipo #3\n",
        "*   María Fernanda Mendoza A01745728\n",
        "*   Carolina Obregon A01251983\n",
        "*   Isabel Navarro A00823132\n",
        "*   Jaime Montemayor A01176573\n",
        "*   Gustavo De Los Ríos Alatorre  A01410922\n",
        "\n",
        "\n",
        "\n",
        "\n",
        "\n",
        "\n",
        "\n"
      ]
    },
    {
      "cell_type": "markdown",
      "metadata": {
        "id": "2-UomaL-MH0l"
      },
      "source": [
        "## El Alzheimer\n",
        "\n",
        "La enfermedad de **Alzheimer** consta de un trastorno neurológico progresivo que provoca el encogimiento del cerebro (atrofia), provocando también el la muerte de las neuronas en el paciente. \n",
        "\n",
        "Esta enfermedad es el tipo de demencia más frecuente, conlleva un deterioro continuo en el pensamiento, comportamiento, y habilidades sociales afectando la independencia de aquellos que la padecen.\n",
        "\n",
        "Actualmente, en EEUU, unos 5.8 millones de personas de 65 años o más viven con la enfermedad. De ellas el 85% tiene 75 años o  más. De los aproximadamente 50 millones de personas con demencia en todo el mundo, se estima que entre 60% y 70% padecen la enfermedad[ de acuerdo con la Mayo Clinic.](https://www.mayoclinic.org/es-es/diseases-conditions/alzheimers-disease/symptoms-causes/syc-20350447)\n",
        "\n",
        "En *Demencias una visión panorámica*, reporte del quinto simposio de médicina geriátrica realizado en la [Universidad Autónoma de San Luis Potosí](http://www.geriatria.salud.gob.mx/descargas/publicaciones/Demencia.pdf). Se estima que para el año 2050, la cifra de mexicanos afectados por la enfermedad de Alzheimer, será de más de 3.5 millones de personas. \n",
        "\n",
        "Debido a que esta es una enfermedad progresiva, los síntomas de esta en etapas tempranas frecuentemente son difíciles de detectar ya que comienza con algo aparentemente común, cómo el momentaneamente olvidarse de ciertas cosas. Es por esta razón que hemos decidido ensamblar un modelo para datos tabulares que sea capaz de asistir en la detección temprana del Alzheimer. \n",
        "\n",
        "\n"
      ]
    },
    {
      "cell_type": "markdown",
      "metadata": {
        "id": "XB0h98fkTSzl"
      },
      "source": [
        "## Set de datos utilizado\n",
        "#### OASIS Longitudinal Dataset\n",
        "\n",
        "El proyecto Open Access Series of Imaging Studies (OASIS) tiene el objetivo de proporcionar sets de datos de resonancia magnética del cerebro a la comunidad científica. \n",
        "\n",
        "OASIS existe gracias al Centro de Investigación de la Enfermedad de Alzheimer  de la Universidad de Washington Dr. Randy Buckner en el Instituto Médico Howard Hughes (en la Universidad de Harvard, el grupo de Investigación Neuroimformática de la escuela de medicina de la Universidad de Washington y el centro de investigación de informática biomédica). \n",
        "\n"
      ]
    },
    {
      "cell_type": "markdown",
      "metadata": {
        "id": "mjhWJ7DfWkKc"
      },
      "source": [
        "El [OASIS Longitudinal Dataset](https://www.kaggle.com/jboysen/mri-and-alzheimers?select=oasis_longitudinal.csv) en particular, consiste en una colección longitudinal de 150 sujetos de entre 60 y 96 años de edad. Cada sujeto fue escaneado en dos o más visitas separadas por al menos un año. Se cuenta con un total de 373 sesiones de imagen. "
      ]
    },
    {
      "cell_type": "code",
      "metadata": {
        "id": "3I3Xv7xSOe3-"
      },
      "source": [
        "import pandas as pd\n",
        "import numpy as np\n",
        "import plotly.graph_objects as go\n",
        "import plotly.figure_factory as ff\n",
        "import plotly.express as px\n",
        "import seaborn as sns\n",
        "import matplotlib.pyplot as plt\n",
        "%matplotlib inline"
      ],
      "execution_count": null,
      "outputs": []
    },
    {
      "cell_type": "code",
      "metadata": {
        "colab": {
          "base_uri": "https://localhost:8080/"
        },
        "id": "c4bhC1mXbuGz",
        "outputId": "146b993f-88be-44e1-9b3b-e3fa8180bf55"
      },
      "source": [
        "from google.colab import drive\n",
        "drive.mount('/content/drive')"
      ],
      "execution_count": null,
      "outputs": [
        {
          "output_type": "stream",
          "name": "stdout",
          "text": [
            "Mounted at /content/drive\n"
          ]
        }
      ]
    },
    {
      "cell_type": "code",
      "metadata": {
        "id": "DRZw5-XTfNDs"
      },
      "source": [
        "data = pd.read_csv('/content/drive/Shareddrives/Proyecto_DatosTabulares/Datasets/oasis_longitudinal.csv')"
      ],
      "execution_count": null,
      "outputs": []
    },
    {
      "cell_type": "markdown",
      "metadata": {
        "id": "0wA2HXuPbPLi"
      },
      "source": [
        "#**Columnas del dataset.**\n",
        "\n",
        "\n",
        "*   Subject ID: Identificación del paciente. \n",
        "*   MRI ID: Identificación del número de resonancia. \n",
        "*   Group: Non-Demented, Converted, Demented. (Sin demencia, Convertido, Con demencia)\n",
        "*   Visit: Identificación del orden de las visitas. \n",
        "*   Sexo del paciente (M/F)\n",
        "*   Hand: Mano dominante (Todos derecha en este caso). \n",
        "*   Age: Edad de entre 60 a 98 años de edad. \n",
        "*   EDUC: Años de educación. \n",
        "*   SES: Estatus socioeconómico. \n",
        "*   MMSE: Mini-Mental State Examination. Prueba de salud mental influenciada por la edad y la escolaridad. Entre más baja sea la puntuación, más posible es que el paciente tenga un deterioro cognitivo. Calificación < 24; posible deterioro cognitivo. \n",
        "*   Clinical Dementia Rating: Calificación para medir el deterioro mental del paciente. Entre mayor sea, mayor es el deterioro (va de 0 a 3). \n",
        "*   eTIV: Volumen intercanial total estimado. \n",
        "*   Normalización del volumen del cerebro. \n",
        "*   Factor de Escala Atlas.\n",
        "\n",
        "\n",
        "\n",
        "\n",
        "\n",
        "\n",
        "\n",
        "\n",
        "\n",
        "\n",
        "\n",
        "\n",
        "\n"
      ]
    },
    {
      "cell_type": "code",
      "metadata": {
        "colab": {
          "base_uri": "https://localhost:8080/",
          "height": 203
        },
        "id": "e92N9YcIYSva",
        "outputId": "9329b4af-bea9-4ba9-ba4c-50fbb0304fdf"
      },
      "source": [
        "data.head()"
      ],
      "execution_count": null,
      "outputs": [
        {
          "output_type": "execute_result",
          "data": {
            "text/html": [
              "<div>\n",
              "<style scoped>\n",
              "    .dataframe tbody tr th:only-of-type {\n",
              "        vertical-align: middle;\n",
              "    }\n",
              "\n",
              "    .dataframe tbody tr th {\n",
              "        vertical-align: top;\n",
              "    }\n",
              "\n",
              "    .dataframe thead th {\n",
              "        text-align: right;\n",
              "    }\n",
              "</style>\n",
              "<table border=\"1\" class=\"dataframe\">\n",
              "  <thead>\n",
              "    <tr style=\"text-align: right;\">\n",
              "      <th></th>\n",
              "      <th>Subject ID</th>\n",
              "      <th>MRI ID</th>\n",
              "      <th>Group</th>\n",
              "      <th>Visit</th>\n",
              "      <th>MR Delay</th>\n",
              "      <th>M/F</th>\n",
              "      <th>Hand</th>\n",
              "      <th>Age</th>\n",
              "      <th>EDUC</th>\n",
              "      <th>SES</th>\n",
              "      <th>MMSE</th>\n",
              "      <th>CDR</th>\n",
              "      <th>eTIV</th>\n",
              "      <th>nWBV</th>\n",
              "      <th>ASF</th>\n",
              "    </tr>\n",
              "  </thead>\n",
              "  <tbody>\n",
              "    <tr>\n",
              "      <th>0</th>\n",
              "      <td>OAS2_0001</td>\n",
              "      <td>OAS2_0001_MR1</td>\n",
              "      <td>Nondemented</td>\n",
              "      <td>1</td>\n",
              "      <td>0</td>\n",
              "      <td>M</td>\n",
              "      <td>R</td>\n",
              "      <td>87</td>\n",
              "      <td>14</td>\n",
              "      <td>2.0</td>\n",
              "      <td>27.0</td>\n",
              "      <td>0.0</td>\n",
              "      <td>1987</td>\n",
              "      <td>0.696</td>\n",
              "      <td>0.883</td>\n",
              "    </tr>\n",
              "    <tr>\n",
              "      <th>1</th>\n",
              "      <td>OAS2_0001</td>\n",
              "      <td>OAS2_0001_MR2</td>\n",
              "      <td>Nondemented</td>\n",
              "      <td>2</td>\n",
              "      <td>457</td>\n",
              "      <td>M</td>\n",
              "      <td>R</td>\n",
              "      <td>88</td>\n",
              "      <td>14</td>\n",
              "      <td>2.0</td>\n",
              "      <td>30.0</td>\n",
              "      <td>0.0</td>\n",
              "      <td>2004</td>\n",
              "      <td>0.681</td>\n",
              "      <td>0.876</td>\n",
              "    </tr>\n",
              "    <tr>\n",
              "      <th>2</th>\n",
              "      <td>OAS2_0002</td>\n",
              "      <td>OAS2_0002_MR1</td>\n",
              "      <td>Demented</td>\n",
              "      <td>1</td>\n",
              "      <td>0</td>\n",
              "      <td>M</td>\n",
              "      <td>R</td>\n",
              "      <td>75</td>\n",
              "      <td>12</td>\n",
              "      <td>NaN</td>\n",
              "      <td>23.0</td>\n",
              "      <td>0.5</td>\n",
              "      <td>1678</td>\n",
              "      <td>0.736</td>\n",
              "      <td>1.046</td>\n",
              "    </tr>\n",
              "    <tr>\n",
              "      <th>3</th>\n",
              "      <td>OAS2_0002</td>\n",
              "      <td>OAS2_0002_MR2</td>\n",
              "      <td>Demented</td>\n",
              "      <td>2</td>\n",
              "      <td>560</td>\n",
              "      <td>M</td>\n",
              "      <td>R</td>\n",
              "      <td>76</td>\n",
              "      <td>12</td>\n",
              "      <td>NaN</td>\n",
              "      <td>28.0</td>\n",
              "      <td>0.5</td>\n",
              "      <td>1738</td>\n",
              "      <td>0.713</td>\n",
              "      <td>1.010</td>\n",
              "    </tr>\n",
              "    <tr>\n",
              "      <th>4</th>\n",
              "      <td>OAS2_0002</td>\n",
              "      <td>OAS2_0002_MR3</td>\n",
              "      <td>Demented</td>\n",
              "      <td>3</td>\n",
              "      <td>1895</td>\n",
              "      <td>M</td>\n",
              "      <td>R</td>\n",
              "      <td>80</td>\n",
              "      <td>12</td>\n",
              "      <td>NaN</td>\n",
              "      <td>22.0</td>\n",
              "      <td>0.5</td>\n",
              "      <td>1698</td>\n",
              "      <td>0.701</td>\n",
              "      <td>1.034</td>\n",
              "    </tr>\n",
              "  </tbody>\n",
              "</table>\n",
              "</div>"
            ],
            "text/plain": [
              "  Subject ID         MRI ID        Group  Visit  ...  CDR  eTIV   nWBV    ASF\n",
              "0  OAS2_0001  OAS2_0001_MR1  Nondemented      1  ...  0.0  1987  0.696  0.883\n",
              "1  OAS2_0001  OAS2_0001_MR2  Nondemented      2  ...  0.0  2004  0.681  0.876\n",
              "2  OAS2_0002  OAS2_0002_MR1     Demented      1  ...  0.5  1678  0.736  1.046\n",
              "3  OAS2_0002  OAS2_0002_MR2     Demented      2  ...  0.5  1738  0.713  1.010\n",
              "4  OAS2_0002  OAS2_0002_MR3     Demented      3  ...  0.5  1698  0.701  1.034\n",
              "\n",
              "[5 rows x 15 columns]"
            ]
          },
          "metadata": {},
          "execution_count": 4
        }
      ]
    },
    {
      "cell_type": "code",
      "metadata": {
        "colab": {
          "base_uri": "https://localhost:8080/",
          "height": 743
        },
        "id": "BtcPoBCobujv",
        "outputId": "217b7123-4908-4375-b3a7-1c25de648915"
      },
      "source": [
        "display(data.info(), data.describe().T)"
      ],
      "execution_count": null,
      "outputs": [
        {
          "output_type": "stream",
          "name": "stdout",
          "text": [
            "<class 'pandas.core.frame.DataFrame'>\n",
            "RangeIndex: 373 entries, 0 to 372\n",
            "Data columns (total 15 columns):\n",
            " #   Column      Non-Null Count  Dtype  \n",
            "---  ------      --------------  -----  \n",
            " 0   Subject ID  373 non-null    object \n",
            " 1   MRI ID      373 non-null    object \n",
            " 2   Group       373 non-null    object \n",
            " 3   Visit       373 non-null    int64  \n",
            " 4   MR Delay    373 non-null    int64  \n",
            " 5   M/F         373 non-null    object \n",
            " 6   Hand        373 non-null    object \n",
            " 7   Age         373 non-null    int64  \n",
            " 8   EDUC        373 non-null    int64  \n",
            " 9   SES         354 non-null    float64\n",
            " 10  MMSE        371 non-null    float64\n",
            " 11  CDR         373 non-null    float64\n",
            " 12  eTIV        373 non-null    int64  \n",
            " 13  nWBV        373 non-null    float64\n",
            " 14  ASF         373 non-null    float64\n",
            "dtypes: float64(5), int64(5), object(5)\n",
            "memory usage: 43.8+ KB\n"
          ]
        },
        {
          "output_type": "display_data",
          "data": {
            "text/plain": [
              "None"
            ]
          },
          "metadata": {}
        },
        {
          "output_type": "display_data",
          "data": {
            "text/html": [
              "<div>\n",
              "<style scoped>\n",
              "    .dataframe tbody tr th:only-of-type {\n",
              "        vertical-align: middle;\n",
              "    }\n",
              "\n",
              "    .dataframe tbody tr th {\n",
              "        vertical-align: top;\n",
              "    }\n",
              "\n",
              "    .dataframe thead th {\n",
              "        text-align: right;\n",
              "    }\n",
              "</style>\n",
              "<table border=\"1\" class=\"dataframe\">\n",
              "  <thead>\n",
              "    <tr style=\"text-align: right;\">\n",
              "      <th></th>\n",
              "      <th>count</th>\n",
              "      <th>mean</th>\n",
              "      <th>std</th>\n",
              "      <th>min</th>\n",
              "      <th>25%</th>\n",
              "      <th>50%</th>\n",
              "      <th>75%</th>\n",
              "      <th>max</th>\n",
              "    </tr>\n",
              "  </thead>\n",
              "  <tbody>\n",
              "    <tr>\n",
              "      <th>Visit</th>\n",
              "      <td>373.0</td>\n",
              "      <td>1.882038</td>\n",
              "      <td>0.922843</td>\n",
              "      <td>1.000</td>\n",
              "      <td>1.000</td>\n",
              "      <td>2.000</td>\n",
              "      <td>2.000</td>\n",
              "      <td>5.000</td>\n",
              "    </tr>\n",
              "    <tr>\n",
              "      <th>MR Delay</th>\n",
              "      <td>373.0</td>\n",
              "      <td>595.104558</td>\n",
              "      <td>635.485118</td>\n",
              "      <td>0.000</td>\n",
              "      <td>0.000</td>\n",
              "      <td>552.000</td>\n",
              "      <td>873.000</td>\n",
              "      <td>2639.000</td>\n",
              "    </tr>\n",
              "    <tr>\n",
              "      <th>Age</th>\n",
              "      <td>373.0</td>\n",
              "      <td>77.013405</td>\n",
              "      <td>7.640957</td>\n",
              "      <td>60.000</td>\n",
              "      <td>71.000</td>\n",
              "      <td>77.000</td>\n",
              "      <td>82.000</td>\n",
              "      <td>98.000</td>\n",
              "    </tr>\n",
              "    <tr>\n",
              "      <th>EDUC</th>\n",
              "      <td>373.0</td>\n",
              "      <td>14.597855</td>\n",
              "      <td>2.876339</td>\n",
              "      <td>6.000</td>\n",
              "      <td>12.000</td>\n",
              "      <td>15.000</td>\n",
              "      <td>16.000</td>\n",
              "      <td>23.000</td>\n",
              "    </tr>\n",
              "    <tr>\n",
              "      <th>SES</th>\n",
              "      <td>354.0</td>\n",
              "      <td>2.460452</td>\n",
              "      <td>1.134005</td>\n",
              "      <td>1.000</td>\n",
              "      <td>2.000</td>\n",
              "      <td>2.000</td>\n",
              "      <td>3.000</td>\n",
              "      <td>5.000</td>\n",
              "    </tr>\n",
              "    <tr>\n",
              "      <th>MMSE</th>\n",
              "      <td>371.0</td>\n",
              "      <td>27.342318</td>\n",
              "      <td>3.683244</td>\n",
              "      <td>4.000</td>\n",
              "      <td>27.000</td>\n",
              "      <td>29.000</td>\n",
              "      <td>30.000</td>\n",
              "      <td>30.000</td>\n",
              "    </tr>\n",
              "    <tr>\n",
              "      <th>CDR</th>\n",
              "      <td>373.0</td>\n",
              "      <td>0.290885</td>\n",
              "      <td>0.374557</td>\n",
              "      <td>0.000</td>\n",
              "      <td>0.000</td>\n",
              "      <td>0.000</td>\n",
              "      <td>0.500</td>\n",
              "      <td>2.000</td>\n",
              "    </tr>\n",
              "    <tr>\n",
              "      <th>eTIV</th>\n",
              "      <td>373.0</td>\n",
              "      <td>1488.128686</td>\n",
              "      <td>176.139286</td>\n",
              "      <td>1106.000</td>\n",
              "      <td>1357.000</td>\n",
              "      <td>1470.000</td>\n",
              "      <td>1597.000</td>\n",
              "      <td>2004.000</td>\n",
              "    </tr>\n",
              "    <tr>\n",
              "      <th>nWBV</th>\n",
              "      <td>373.0</td>\n",
              "      <td>0.729568</td>\n",
              "      <td>0.037135</td>\n",
              "      <td>0.644</td>\n",
              "      <td>0.700</td>\n",
              "      <td>0.729</td>\n",
              "      <td>0.756</td>\n",
              "      <td>0.837</td>\n",
              "    </tr>\n",
              "    <tr>\n",
              "      <th>ASF</th>\n",
              "      <td>373.0</td>\n",
              "      <td>1.195461</td>\n",
              "      <td>0.138092</td>\n",
              "      <td>0.876</td>\n",
              "      <td>1.099</td>\n",
              "      <td>1.194</td>\n",
              "      <td>1.293</td>\n",
              "      <td>1.587</td>\n",
              "    </tr>\n",
              "  </tbody>\n",
              "</table>\n",
              "</div>"
            ],
            "text/plain": [
              "          count         mean         std  ...       50%       75%       max\n",
              "Visit     373.0     1.882038    0.922843  ...     2.000     2.000     5.000\n",
              "MR Delay  373.0   595.104558  635.485118  ...   552.000   873.000  2639.000\n",
              "Age       373.0    77.013405    7.640957  ...    77.000    82.000    98.000\n",
              "EDUC      373.0    14.597855    2.876339  ...    15.000    16.000    23.000\n",
              "SES       354.0     2.460452    1.134005  ...     2.000     3.000     5.000\n",
              "MMSE      371.0    27.342318    3.683244  ...    29.000    30.000    30.000\n",
              "CDR       373.0     0.290885    0.374557  ...     0.000     0.500     2.000\n",
              "eTIV      373.0  1488.128686  176.139286  ...  1470.000  1597.000  2004.000\n",
              "nWBV      373.0     0.729568    0.037135  ...     0.729     0.756     0.837\n",
              "ASF       373.0     1.195461    0.138092  ...     1.194     1.293     1.587\n",
              "\n",
              "[10 rows x 8 columns]"
            ]
          },
          "metadata": {}
        }
      ]
    },
    {
      "cell_type": "markdown",
      "metadata": {
        "id": "WV-7ybxGbWYd"
      },
      "source": [
        "#Visualización de los datos"
      ]
    },
    {
      "cell_type": "code",
      "metadata": {
        "id": "tLKkxtVqbNn-",
        "colab": {
          "base_uri": "https://localhost:8080/"
        },
        "outputId": "dcbae0b3-7847-459a-b9c6-6ea564c7acd4"
      },
      "source": [
        "X = data.copy()\n",
        "X.pop('Subject ID')\n",
        "X.pop('MRI ID')\n",
        "X.pop('Hand')\n"
      ],
      "execution_count": null,
      "outputs": [
        {
          "output_type": "execute_result",
          "data": {
            "text/plain": [
              "0      R\n",
              "1      R\n",
              "2      R\n",
              "3      R\n",
              "4      R\n",
              "      ..\n",
              "368    R\n",
              "369    R\n",
              "370    R\n",
              "371    R\n",
              "372    R\n",
              "Name: Hand, Length: 373, dtype: object"
            ]
          },
          "metadata": {},
          "execution_count": 6
        }
      ]
    },
    {
      "cell_type": "code",
      "metadata": {
        "colab": {
          "base_uri": "https://localhost:8080/",
          "height": 542
        },
        "id": "VeUZtM0_b9x4",
        "outputId": "7fb6fbd8-d0e9-40e0-c0d2-9d3e892ffcc8"
      },
      "source": [
        "from plotly.subplots import make_subplots\n",
        "\n",
        "r, c = 4, 2\n",
        "\n",
        "fig = make_subplots(rows=r, cols=c)\n",
        "traces = []\n",
        "\n",
        "for col in X.columns:\n",
        "  traces.append(go.Histogram(x=X[col].values,\n",
        "                             name = X[col].name))\n",
        "  \n",
        "for i in range(r):\n",
        "  for j in range(c):\n",
        "    try:\n",
        "      fig.append_trace(traces[i*c+j], i+1, j+1)\n",
        "    except BaseException as e:\n",
        "      print(e)\n",
        "      break\n",
        "\n",
        "fig.show(renderer='colab')"
      ],
      "execution_count": null,
      "outputs": [
        {
          "output_type": "display_data",
          "data": {
            "text/html": [
              "<html>\n",
              "<head><meta charset=\"utf-8\" /></head>\n",
              "<body>\n",
              "    <div>\n",
              "            <script src=\"https://cdnjs.cloudflare.com/ajax/libs/mathjax/2.7.5/MathJax.js?config=TeX-AMS-MML_SVG\"></script><script type=\"text/javascript\">if (window.MathJax) {MathJax.Hub.Config({SVG: {font: \"STIX-Web\"}});}</script>\n",
              "                <script type=\"text/javascript\">window.PlotlyConfig = {MathJaxConfig: 'local'};</script>\n",
              "        <script src=\"https://cdn.plot.ly/plotly-latest.min.js\"></script>    \n",
              "            <div id=\"b93628e6-0a75-4f64-a77f-bd9e4dd2c3df\" class=\"plotly-graph-div\" style=\"height:525px; width:100%;\"></div>\n",
              "            <script type=\"text/javascript\">\n",
              "                \n",
              "                    window.PLOTLYENV=window.PLOTLYENV || {};\n",
              "                    \n",
              "                if (document.getElementById(\"b93628e6-0a75-4f64-a77f-bd9e4dd2c3df\")) {\n",
              "                    Plotly.newPlot(\n",
              "                        'b93628e6-0a75-4f64-a77f-bd9e4dd2c3df',\n",
              "                        [{\"name\": \"Group\", \"type\": \"histogram\", \"x\": [\"Nondemented\", \"Nondemented\", \"Demented\", \"Demented\", \"Demented\", \"Nondemented\", \"Nondemented\", \"Nondemented\", \"Nondemented\", \"Nondemented\", \"Demented\", \"Demented\", \"Demented\", \"Nondemented\", \"Nondemented\", \"Demented\", \"Demented\", \"Demented\", \"Demented\", \"Nondemented\", \"Nondemented\", \"Nondemented\", \"Nondemented\", \"Nondemented\", \"Nondemented\", \"Demented\", \"Demented\", \"Demented\", \"Demented\", \"Nondemented\", \"Nondemented\", \"Nondemented\", \"Nondemented\", \"Converted\", \"Converted\", \"Converted\", \"Converted\", \"Converted\", \"Converted\", \"Demented\", \"Demented\", \"Nondemented\", \"Nondemented\", \"Demented\", \"Demented\", \"Demented\", \"Demented\", \"Nondemented\", \"Nondemented\", \"Nondemented\", \"Nondemented\", \"Demented\", \"Demented\", \"Nondemented\", \"Nondemented\", \"Nondemented\", \"Nondemented\", \"Converted\", \"Converted\", \"Converted\", \"Demented\", \"Demented\", \"Nondemented\", \"Nondemented\", \"Nondemented\", \"Nondemented\", \"Nondemented\", \"Nondemented\", \"Nondemented\", \"Nondemented\", \"Nondemented\", \"Nondemented\", \"Demented\", \"Demented\", \"Demented\", \"Demented\", \"Demented\", \"Demented\", \"Demented\", \"Demented\", \"Demented\", \"Converted\", \"Converted\", \"Converted\", \"Nondemented\", \"Nondemented\", \"Demented\", \"Demented\", \"Demented\", \"Demented\", \"Demented\", \"Nondemented\", \"Nondemented\", \"Demented\", \"Demented\", \"Nondemented\", \"Nondemented\", \"Demented\", \"Demented\", \"Demented\", \"Demented\", \"Demented\", \"Nondemented\", \"Nondemented\", \"Nondemented\", \"Demented\", \"Demented\", \"Nondemented\", \"Nondemented\", \"Nondemented\", \"Nondemented\", \"Nondemented\", \"Nondemented\", \"Nondemented\", \"Converted\", \"Converted\", \"Nondemented\", \"Nondemented\", \"Nondemented\", \"Nondemented\", \"Nondemented\", \"Nondemented\", \"Nondemented\", \"Demented\", \"Demented\", \"Demented\", \"Demented\", \"Demented\", \"Nondemented\", \"Nondemented\", \"Nondemented\", \"Nondemented\", \"Nondemented\", \"Nondemented\", \"Demented\", \"Demented\", \"Demented\", \"Demented\", \"Demented\", \"Demented\", \"Demented\", \"Nondemented\", \"Nondemented\", \"Nondemented\", \"Nondemented\", \"Nondemented\", \"Nondemented\", \"Nondemented\", \"Nondemented\", \"Nondemented\", \"Nondemented\", \"Nondemented\", \"Nondemented\", \"Nondemented\", \"Demented\", \"Demented\", \"Nondemented\", \"Nondemented\", \"Nondemented\", \"Nondemented\", \"Nondemented\", \"Demented\", \"Demented\", \"Nondemented\", \"Nondemented\", \"Nondemented\", \"Nondemented\", \"Nondemented\", \"Nondemented\", \"Nondemented\", \"Nondemented\", \"Demented\", \"Demented\", \"Demented\", \"Demented\", \"Demented\", \"Demented\", \"Demented\", \"Demented\", \"Nondemented\", \"Nondemented\", \"Nondemented\", \"Nondemented\", \"Demented\", \"Demented\", \"Demented\", \"Demented\", \"Demented\", \"Demented\", \"Nondemented\", \"Nondemented\", \"Nondemented\", \"Nondemented\", \"Nondemented\", \"Converted\", \"Converted\", \"Nondemented\", \"Nondemented\", \"Nondemented\", \"Nondemented\", \"Nondemented\", \"Nondemented\", \"Nondemented\", \"Nondemented\", \"Nondemented\", \"Demented\", \"Demented\", \"Demented\", \"Demented\", \"Nondemented\", \"Nondemented\", \"Nondemented\", \"Nondemented\", \"Nondemented\", \"Nondemented\", \"Demented\", \"Demented\", \"Demented\", \"Converted\", \"Converted\", \"Converted\", \"Demented\", \"Demented\", \"Nondemented\", \"Nondemented\", \"Demented\", \"Demented\", \"Demented\", \"Demented\", \"Nondemented\", \"Nondemented\", \"Demented\", \"Demented\", \"Demented\", \"Demented\", \"Demented\", \"Demented\", \"Demented\", \"Demented\", \"Demented\", \"Demented\", \"Nondemented\", \"Nondemented\", \"Nondemented\", \"Nondemented\", \"Converted\", \"Converted\", \"Nondemented\", \"Nondemented\", \"Nondemented\", \"Demented\", \"Demented\", \"Nondemented\", \"Nondemented\", \"Nondemented\", \"Nondemented\", \"Demented\", \"Demented\", \"Nondemented\", \"Nondemented\", \"Nondemented\", \"Converted\", \"Converted\", \"Converted\", \"Converted\", \"Converted\", \"Nondemented\", \"Nondemented\", \"Nondemented\", \"Nondemented\", \"Nondemented\", \"Converted\", \"Converted\", \"Converted\", \"Converted\", \"Demented\", \"Demented\", \"Nondemented\", \"Nondemented\", \"Demented\", \"Demented\", \"Nondemented\", \"Nondemented\", \"Demented\", \"Demented\", \"Demented\", \"Demented\", \"Demented\", \"Nondemented\", \"Nondemented\", \"Nondemented\", \"Nondemented\", \"Nondemented\", \"Nondemented\", \"Nondemented\", \"Converted\", \"Converted\", \"Converted\", \"Converted\", \"Demented\", \"Demented\", \"Nondemented\", \"Nondemented\", \"Nondemented\", \"Nondemented\", \"Nondemented\", \"Nondemented\", \"Demented\", \"Demented\", \"Nondemented\", \"Nondemented\", \"Nondemented\", \"Nondemented\", \"Nondemented\", \"Nondemented\", \"Nondemented\", \"Demented\", \"Demented\", \"Nondemented\", \"Nondemented\", \"Demented\", \"Demented\", \"Demented\", \"Demented\", \"Nondemented\", \"Nondemented\", \"Nondemented\", \"Demented\", \"Demented\", \"Demented\", \"Demented\", \"Demented\", \"Demented\", \"Nondemented\", \"Nondemented\", \"Nondemented\", \"Nondemented\", \"Nondemented\", \"Demented\", \"Demented\", \"Nondemented\", \"Nondemented\", \"Nondemented\", \"Demented\", \"Demented\", \"Demented\", \"Converted\", \"Converted\", \"Converted\", \"Nondemented\", \"Nondemented\", \"Nondemented\", \"Nondemented\", \"Nondemented\", \"Demented\", \"Demented\", \"Demented\", \"Demented\", \"Demented\", \"Demented\", \"Demented\", \"Nondemented\", \"Nondemented\", \"Nondemented\", \"Nondemented\", \"Demented\", \"Demented\", \"Demented\", \"Demented\", \"Demented\", \"Nondemented\", \"Nondemented\", \"Nondemented\"], \"xaxis\": \"x\", \"yaxis\": \"y\"}, {\"name\": \"Visit\", \"type\": \"histogram\", \"x\": [1, 2, 1, 2, 3, 1, 2, 1, 2, 3, 1, 3, 4, 1, 2, 1, 2, 1, 2, 1, 2, 3, 1, 2, 3, 1, 2, 1, 2, 1, 3, 4, 5, 1, 3, 4, 1, 2, 3, 1, 2, 1, 2, 1, 2, 1, 2, 1, 2, 3, 4, 1, 2, 1, 2, 1, 2, 1, 2, 3, 1, 2, 1, 2, 3, 4, 1, 2, 1, 3, 4, 5, 1, 2, 3, 4, 1, 2, 1, 2, 3, 1, 2, 3, 1, 2, 1, 2, 1, 2, 3, 1, 2, 1, 2, 1, 2, 1, 2, 3, 4, 5, 1, 2, 3, 1, 2, 1, 2, 3, 1, 2, 1, 2, 1, 2, 1, 2, 1, 2, 1, 2, 3, 1, 2, 3, 1, 2, 1, 2, 3, 1, 2, 3, 1, 2, 1, 2, 3, 1, 2, 1, 2, 3, 4, 1, 2, 1, 2, 1, 2, 3, 4, 5, 1, 2, 1, 2, 3, 4, 5, 1, 2, 1, 2, 3, 1, 2, 1, 2, 3, 1, 2, 3, 1, 2, 3, 1, 2, 1, 2, 1, 2, 1, 2, 1, 2, 1, 3, 1, 2, 3, 1, 2, 1, 2, 1, 2, 1, 2, 3, 1, 2, 1, 2, 1, 2, 1, 2, 1, 2, 3, 1, 2, 3, 1, 2, 3, 1, 2, 3, 1, 2, 1, 2, 1, 2, 1, 2, 1, 2, 1, 2, 1, 2, 1, 2, 1, 2, 1, 2, 1, 2, 3, 4, 1, 2, 1, 2, 3, 1, 2, 1, 2, 1, 2, 1, 2, 1, 2, 3, 1, 2, 3, 4, 5, 1, 2, 1, 2, 3, 1, 2, 1, 3, 1, 2, 1, 2, 1, 2, 1, 2, 1, 2, 1, 2, 3, 1, 2, 1, 2, 1, 2, 3, 1, 2, 1, 2, 1, 2, 1, 2, 3, 4, 1, 2, 1, 2, 1, 2, 3, 1, 2, 1, 2, 1, 2, 1, 2, 1, 2, 1, 2, 1, 2, 3, 1, 2, 1, 2, 1, 2, 1, 2, 1, 2, 3, 1, 2, 1, 2, 3, 1, 2, 3, 1, 2, 3, 1, 2, 1, 2, 3, 1, 2, 1, 2, 3, 1, 2, 1, 2, 3, 4, 1, 2, 1, 2, 3, 1, 2, 3], \"xaxis\": \"x2\", \"yaxis\": \"y2\"}, {\"name\": \"MR Delay\", \"type\": \"histogram\", \"x\": [0, 457, 0, 560, 1895, 0, 538, 0, 1010, 1603, 0, 518, 1281, 0, 742, 0, 576, 0, 854, 0, 730, 1598, 0, 643, 1456, 0, 504, 0, 707, 0, 617, 1861, 2400, 0, 489, 1933, 0, 756, 1563, 0, 1164, 0, 828, 0, 578, 0, 673, 0, 609, 1234, 1779, 0, 610, 0, 1099, 0, 932, 0, 446, 1588, 0, 642, 0, 489, 1287, 1884, 0, 405, 0, 713, 1770, 2369, 0, 1123, 2029, 2508, 0, 486, 0, 567, 1204, 0, 756, 1331, 0, 1008, 0, 491, 0, 352, 866, 0, 689, 0, 575, 0, 486, 0, 248, 647, 970, 1233, 0, 395, 687, 0, 538, 0, 457, 1526, 0, 1510, 0, 842, 0, 846, 0, 726, 0, 622, 0, 640, 1340, 0, 212, 764, 0, 1290, 0, 873, 1651, 0, 723, 1351, 0, 490, 0, 830, 1282, 0, 497, 0, 451, 1438, 2163, 0, 743, 0, 432, 0, 672, 1415, 1870, 2386, 0, 365, 0, 580, 1705, 2288, 2517, 0, 567, 0, 956, 1663, 0, 1393, 0, 441, 1019, 0, 584, 1435, 0, 580, 1209, 0, 659, 0, 670, 0, 802, 0, 754, 0, 751, 0, 563, 0, 680, 1345, 0, 1047, 0, 706, 0, 817, 0, 673, 1412, 0, 778, 0, 1024, 0, 661, 0, 807, 0, 1218, 1752, 0, 952, 1631, 0, 610, 1387, 0, 1554, 2002, 0, 465, 0, 675, 0, 729, 0, 883, 0, 766, 0, 881, 0, 558, 0, 504, 0, 570, 0, 616, 0, 576, 1345, 1927, 0, 1422, 0, 733, 1713, 0, 595, 0, 647, 0, 597, 0, 472, 0, 472, 1192, 0, 851, 1042, 2153, 2639, 0, 1140, 0, 737, 1591, 0, 679, 0, 1006, 0, 539, 0, 1146, 0, 636, 0, 846, 0, 403, 0, 793, 1655, 0, 1022, 0, 665, 0, 561, 1553, 0, 683, 0, 1707, 0, 525, 0, 440, 1204, 1806, 0, 674, 0, 518, 0, 790, 1329, 0, 791, 0, 777, 0, 764, 0, 1399, 0, 759, 0, 552, 0, 454, 1033, 0, 621, 0, 580, 0, 736, 0, 691, 0, 493, 1695, 0, 1212, 0, 695, 1555, 0, 700, 1343, 0, 774, 1631, 0, 665, 0, 600, 1447, 0, 652, 0, 539, 1107, 0, 776, 0, 182, 732, 2107, 0, 553, 0, 842, 2297, 0, 763, 1608], \"xaxis\": \"x3\", \"yaxis\": \"y3\"}, {\"name\": \"M/F\", \"type\": \"histogram\", \"x\": [\"M\", \"M\", \"M\", \"M\", \"M\", \"F\", \"F\", \"M\", \"M\", \"M\", \"M\", \"M\", \"M\", \"F\", \"F\", \"M\", \"M\", \"F\", \"F\", \"F\", \"F\", \"F\", \"F\", \"F\", \"F\", \"M\", \"M\", \"M\", \"M\", \"M\", \"M\", \"M\", \"M\", \"F\", \"F\", \"F\", \"M\", \"M\", \"M\", \"M\", \"M\", \"F\", \"F\", \"F\", \"F\", \"M\", \"M\", \"F\", \"F\", \"F\", \"F\", \"M\", \"M\", \"F\", \"F\", \"F\", \"F\", \"F\", \"F\", \"F\", \"M\", \"M\", \"F\", \"F\", \"F\", \"F\", \"F\", \"F\", \"F\", \"F\", \"F\", \"F\", \"M\", \"M\", \"M\", \"M\", \"F\", \"F\", \"M\", \"M\", \"M\", \"F\", \"F\", \"F\", \"F\", \"F\", \"F\", \"F\", \"M\", \"M\", \"M\", \"F\", \"F\", \"F\", \"F\", \"F\", \"F\", \"M\", \"M\", \"M\", \"M\", \"M\", \"F\", \"F\", \"F\", \"M\", \"M\", \"F\", \"F\", \"F\", \"M\", \"M\", \"F\", \"F\", \"F\", \"F\", \"M\", \"M\", \"F\", \"F\", \"F\", \"F\", \"F\", \"M\", \"M\", \"M\", \"M\", \"M\", \"M\", \"M\", \"M\", \"F\", \"F\", \"F\", \"F\", \"F\", \"F\", \"F\", \"F\", \"M\", \"M\", \"M\", \"M\", \"M\", \"M\", \"F\", \"F\", \"F\", \"F\", \"M\", \"M\", \"M\", \"M\", \"M\", \"F\", \"F\", \"F\", \"F\", \"F\", \"F\", \"F\", \"F\", \"F\", \"F\", \"F\", \"F\", \"M\", \"M\", \"M\", \"M\", \"M\", \"F\", \"F\", \"F\", \"M\", \"M\", \"M\", \"F\", \"F\", \"F\", \"F\", \"F\", \"F\", \"F\", \"F\", \"M\", \"M\", \"M\", \"M\", \"M\", \"M\", \"M\", \"M\", \"M\", \"F\", \"F\", \"F\", \"F\", \"M\", \"M\", \"M\", \"F\", \"F\", \"M\", \"M\", \"M\", \"M\", \"F\", \"F\", \"F\", \"F\", \"F\", \"F\", \"F\", \"F\", \"M\", \"M\", \"M\", \"F\", \"F\", \"F\", \"M\", \"M\", \"M\", \"M\", \"F\", \"F\", \"M\", \"M\", \"M\", \"M\", \"M\", \"M\", \"F\", \"F\", \"F\", \"F\", \"F\", \"F\", \"F\", \"F\", \"M\", \"M\", \"M\", \"M\", \"F\", \"F\", \"F\", \"F\", \"F\", \"F\", \"F\", \"F\", \"F\", \"F\", \"F\", \"M\", \"M\", \"F\", \"F\", \"F\", \"M\", \"M\", \"M\", \"M\", \"M\", \"F\", \"F\", \"F\", \"F\", \"F\", \"F\", \"F\", \"F\", \"F\", \"F\", \"F\", \"M\", \"M\", \"M\", \"M\", \"F\", \"F\", \"F\", \"F\", \"F\", \"F\", \"F\", \"F\", \"F\", \"F\", \"F\", \"F\", \"F\", \"F\", \"M\", \"M\", \"F\", \"F\", \"F\", \"F\", \"F\", \"F\", \"F\", \"F\", \"F\", \"F\", \"F\", \"F\", \"F\", \"F\", \"F\", \"F\", \"F\", \"F\", \"F\", \"F\", \"F\", \"F\", \"F\", \"F\", \"F\", \"M\", \"M\", \"M\", \"M\", \"M\", \"M\", \"M\", \"M\", \"M\", \"M\", \"M\", \"F\", \"F\", \"M\", \"M\", \"M\", \"M\", \"M\", \"M\", \"M\", \"M\", \"M\", \"M\", \"M\", \"M\", \"M\", \"M\", \"M\", \"M\", \"F\", \"F\", \"F\", \"M\", \"M\", \"F\", \"F\", \"F\", \"M\", \"M\", \"F\", \"F\", \"F\", \"F\", \"F\", \"F\", \"M\", \"M\", \"M\", \"F\", \"F\", \"F\"], \"xaxis\": \"x4\", \"yaxis\": \"y4\"}, {\"name\": \"Age\", \"type\": \"histogram\", \"x\": [87, 88, 75, 76, 80, 88, 90, 80, 83, 85, 71, 73, 75, 93, 95, 68, 69, 66, 68, 78, 80, 83, 81, 82, 85, 76, 77, 88, 90, 80, 81, 85, 86, 87, 88, 92, 80, 82, 84, 72, 76, 61, 64, 86, 87, 82, 84, 69, 71, 73, 74, 64, 66, 77, 80, 60, 62, 86, 88, 91, 90, 92, 79, 80, 82, 84, 88, 89, 69, 70, 73, 75, 82, 85, 88, 89, 81, 83, 84, 86, 88, 71, 73, 75, 70, 73, 72, 73, 68, 69, 71, 75, 77, 83, 85, 77, 78, 66, 66, 68, 68, 69, 69, 70, 71, 71, 72, 92, 94, 97, 74, 78, 82, 84, 85, 87, 65, 67, 71, 73, 81, 83, 85, 78, 79, 80, 75, 78, 68, 70, 72, 79, 81, 83, 80, 81, 78, 81, 82, 61, 62, 67, 68, 71, 73, 88, 90, 81, 82, 80, 82, 84, 85, 86, 83, 84, 70, 72, 75, 76, 77, 73, 75, 66, 69, 71, 69, 73, 89, 91, 92, 69, 71, 73, 66, 68, 69, 82, 84, 78, 80, 63, 65, 96, 98, 78, 80, 70, 72, 73, 75, 76, 75, 78, 83, 84, 61, 63, 71, 72, 74, 89, 91, 74, 77, 66, 67, 80, 83, 77, 80, 82, 71, 74, 76, 82, 84, 86, 69, 74, 75, 70, 71, 86, 87, 70, 72, 77, 79, 81, 83, 62, 65, 76, 78, 73, 75, 76, 78, 73, 75, 73, 74, 76, 78, 67, 71, 81, 83, 85, 76, 78, 73, 74, 86, 88, 70, 71, 74, 75, 77, 79, 81, 81, 84, 86, 76, 79, 78, 80, 82, 65, 67, 78, 81, 70, 71, 74, 78, 74, 75, 73, 75, 67, 68, 76, 78, 81, 65, 68, 69, 71, 89, 91, 93, 77, 79, 68, 73, 80, 82, 77, 78, 80, 82, 81, 83, 73, 75, 66, 68, 69, 75, 77, 78, 81, 73, 75, 73, 76, 73, 76, 76, 78, 77, 79, 80, 82, 84, 77, 79, 78, 80, 71, 73, 76, 77, 81, 75, 79, 60, 62, 64, 70, 72, 73, 84, 87, 89, 68, 70, 89, 90, 93, 79, 81, 74, 75, 77, 73, 75, 66, 66, 68, 72, 72, 73, 80, 82, 86, 61, 63, 65], \"xaxis\": \"x5\", \"yaxis\": \"y5\"}, {\"name\": \"EDUC\", \"type\": \"histogram\", \"x\": [14, 14, 12, 12, 12, 18, 18, 12, 12, 12, 16, 16, 16, 14, 14, 12, 12, 12, 12, 16, 16, 16, 12, 12, 12, 16, 16, 8, 8, 12, 12, 12, 12, 14, 14, 14, 20, 20, 20, 20, 20, 16, 16, 12, 12, 12, 12, 12, 12, 12, 12, 18, 18, 12, 12, 18, 18, 12, 12, 12, 12, 12, 16, 16, 16, 16, 12, 12, 13, 13, 13, 13, 12, 12, 12, 12, 18, 18, 6, 6, 6, 16, 16, 16, 17, 17, 12, 12, 14, 14, 14, 18, 18, 15, 15, 16, 16, 16, 16, 16, 16, 16, 16, 16, 16, 12, 12, 23, 23, 23, 18, 18, 16, 16, 18, 18, 13, 13, 14, 14, 12, 12, 12, 14, 14, 14, 13, 13, 18, 18, 18, 18, 18, 18, 12, 12, 8, 8, 8, 18, 18, 12, 12, 12, 12, 12, 12, 18, 18, 17, 17, 17, 17, 17, 13, 13, 14, 14, 14, 14, 14, 8, 8, 18, 18, 18, 16, 16, 16, 16, 16, 12, 12, 12, 15, 15, 15, 12, 12, 8, 8, 15, 15, 17, 17, 12, 12, 12, 12, 18, 18, 18, 12, 12, 12, 12, 16, 16, 18, 18, 18, 13, 13, 16, 16, 12, 12, 12, 12, 11, 11, 11, 18, 18, 18, 15, 15, 15, 16, 16, 16, 16, 16, 12, 12, 11, 11, 18, 18, 11, 11, 12, 12, 12, 12, 13, 13, 12, 12, 12, 12, 20, 20, 20, 20, 14, 14, 15, 15, 15, 14, 14, 11, 11, 16, 16, 16, 16, 12, 12, 12, 18, 18, 18, 18, 18, 16, 16, 18, 18, 18, 12, 12, 12, 12, 11, 11, 18, 18, 18, 18, 16, 16, 16, 16, 16, 16, 16, 18, 18, 16, 16, 18, 18, 18, 16, 16, 16, 16, 15, 15, 13, 13, 13, 13, 13, 13, 12, 12, 18, 18, 18, 18, 18, 18, 18, 12, 12, 15, 15, 14, 14, 12, 12, 16, 16, 16, 14, 14, 20, 20, 12, 12, 18, 18, 16, 16, 16, 16, 16, 12, 12, 12, 16, 16, 16, 16, 16, 16, 14, 14, 14, 14, 14, 20, 20, 12, 12, 12, 12, 12, 13, 13, 13, 13, 16, 16, 16, 16, 16, 13, 13, 13], \"xaxis\": \"x6\", \"yaxis\": \"y6\"}, {\"name\": \"SES\", \"type\": \"histogram\", \"x\": [2.0, 2.0, null, null, null, 3.0, 3.0, 4.0, 4.0, 4.0, null, null, null, 2.0, 2.0, 2.0, 2.0, 3.0, 3.0, 2.0, 2.0, 2.0, 4.0, 4.0, 4.0, 3.0, 3.0, 4.0, 4.0, 3.0, 3.0, 3.0, 3.0, 1.0, 1.0, 1.0, 1.0, 1.0, 1.0, 1.0, 1.0, 3.0, 3.0, 4.0, 4.0, 3.0, 3.0, 3.0, 3.0, 3.0, 3.0, 2.0, 2.0, 4.0, 4.0, 1.0, 1.0, 3.0, 3.0, 3.0, 3.0, 3.0, 1.0, 1.0, 1.0, 1.0, 4.0, 4.0, 4.0, 4.0, 4.0, 4.0, 4.0, 4.0, 4.0, 4.0, 2.0, 2.0, 4.0, 4.0, 4.0, 1.0, 1.0, 1.0, 3.0, 3.0, 4.0, 4.0, 4.0, 4.0, 4.0, 1.0, 1.0, 2.0, 2.0, 2.0, 2.0, 1.0, 1.0, 1.0, 1.0, 1.0, 3.0, 3.0, 3.0, 4.0, 4.0, 1.0, 1.0, 1.0, 2.0, 2.0, 3.0, 3.0, 1.0, 1.0, 3.0, 3.0, 2.0, 2.0, 2.0, 2.0, 2.0, 3.0, 3.0, 3.0, 4.0, 4.0, 1.0, 1.0, 1.0, 2.0, 2.0, 2.0, null, null, 5.0, 5.0, 5.0, 1.0, 1.0, 4.0, 4.0, 4.0, 4.0, 3.0, 3.0, 2.0, 2.0, 1.0, 1.0, 1.0, 1.0, 1.0, 2.0, 2.0, 3.0, 3.0, 3.0, 3.0, 3.0, 5.0, 5.0, 2.0, 2.0, 2.0, 2.0, 2.0, 1.0, 1.0, 1.0, 4.0, 4.0, 4.0, 2.0, 2.0, 2.0, 4.0, 4.0, 5.0, 5.0, 2.0, 2.0, 1.0, 1.0, 4.0, 4.0, 2.0, 2.0, 2.0, 2.0, 2.0, 4.0, 4.0, 2.0, 2.0, 1.0, 1.0, 1.0, 1.0, 1.0, 3.0, 3.0, 2.0, 2.0, 4.0, 4.0, null, null, 4.0, 4.0, 4.0, 2.0, 2.0, 2.0, 3.0, 3.0, 3.0, 1.0, 1.0, 1.0, 1.0, 1.0, 4.0, 4.0, 4.0, 4.0, 1.0, 1.0, 4.0, 4.0, 4.0, 4.0, 3.0, 3.0, 2.0, 2.0, null, null, 3.0, 3.0, 2.0, 2.0, 2.0, 2.0, 4.0, 4.0, 2.0, 2.0, 2.0, 3.0, 3.0, 4.0, 4.0, 3.0, 3.0, 3.0, 3.0, 3.0, 3.0, 3.0, 1.0, 1.0, 1.0, 1.0, 1.0, 1.0, 1.0, 1.0, 1.0, 1.0, 2.0, 2.0, 3.0, 3.0, 4.0, 4.0, 2.0, 2.0, 2.0, 2.0, 2.0, 2.0, 1.0, 1.0, 3.0, 3.0, 3.0, 2.0, 2.0, 3.0, 3.0, 2.0, 2.0, 2.0, 1.0, 1.0, 3.0, 3.0, 2.0, 2.0, 2.0, 2.0, 2.0, 2.0, 2.0, 2.0, 3.0, 3.0, 2.0, 2.0, 2.0, 1.0, 1.0, 1.0, 1.0, 2.0, 2.0, 4.0, 4.0, 3.0, 3.0, null, null, 1.0, 1.0, 1.0, 2.0, 2.0, 1.0, 1.0, 3.0, 3.0, 1.0, 1.0, 3.0, 3.0, 3.0, 1.0, 1.0, 4.0, 4.0, 4.0, 4.0, 4.0, 4.0, 2.0, 2.0, 2.0, 3.0, 3.0, 2.0, 2.0, 2.0, 1.0, 1.0, null, null, null, null, null, 2.0, 2.0, 2.0, 2.0, 3.0, 3.0, 1.0, 1.0, 1.0, 2.0, 2.0, 2.0], \"xaxis\": \"x7\", \"yaxis\": \"y7\"}, {\"name\": \"MMSE\", \"type\": \"histogram\", \"x\": [27.0, 30.0, 23.0, 28.0, 22.0, 28.0, 27.0, 28.0, 29.0, 30.0, 28.0, 27.0, 27.0, 30.0, 29.0, 27.0, 24.0, 30.0, 29.0, 29.0, 29.0, 29.0, 30.0, 30.0, 29.0, 21.0, 16.0, 25.0, 23.0, 29.0, 27.0, 30.0, 27.0, 30.0, 29.0, 27.0, 29.0, 28.0, 26.0, 26.0, 25.0, 30.0, 29.0, 21.0, 21.0, 27.0, 27.0, 29.0, 30.0, 30.0, 30.0, 22.0, 21.0, 29.0, 30.0, 30.0, 30.0, 30.0, 30.0, 28.0, 21.0, 24.0, 29.0, 30.0, 30.0, 30.0, 30.0, 27.0, 30.0, 30.0, 30.0, 29.0, 27.0, 29.0, 26.0, 26.0, 26.0, 25.0, 25.0, 27.0, 23.0, 27.0, 28.0, 28.0, 29.0, 29.0, 26.0, 26.0, 21.0, 15.0, 22.0, 30.0, 29.0, 20.0, 22.0, 29.0, 27.0, 19.0, 21.0, 19.0, 7.0, 4.0, 30.0, 30.0, 30.0, 20.0, 17.0, 29.0, 29.0, 30.0, 29.0, 30.0, 29.0, 28.0, 29.0, 24.0, 29.0, 27.0, 28.0, 30.0, 30.0, 29.0, 30.0, 30.0, 26.0, 29.0, 29.0, 28.0, 30.0, 30.0, 30.0, 29.0, 30.0, 29.0, 30.0, 27.0, 23.0, 26.0, 18.0, 30.0, 30.0, 30.0, 29.0, 29.0, 28.0, 30.0, 29.0, 29.0, 30.0, 28.0, 29.0, 29.0, 30.0, 30.0, 27.0, 28.0, 29.0, 28.0, 28.0, 29.0, 29.0, 25.0, 22.0, 30.0, 29.0, 30.0, 28.0, 29.0, 28.0, 28.0, 30.0, 23.0, 16.0, 16.0, 25.0, 30.0, 28.0, 26.0, 26.0, 29.0, 27.0, 28.0, 28.0, 26.0, 21.0, 21.0, 20.0, 29.0, 27.0, 29.0, 29.0, 30.0, 28.0, 29.0, 28.0, 27.0, 30.0, 30.0, 30.0, 29.0, 29.0, 29.0, 28.0, 30.0, 30.0, 30.0, 28.0, 27.0, 23.0, 29.0, 30.0, 30.0, 30.0, 30.0, 30.0, 29.0, 29.0, 30.0, 30.0, 30.0, 30.0, 25.0, 17.0, 29.0, 30.0, 22.0, 21.0, 25.0, 27.0, 28.0, 29.0, 17.0, 17.0, 27.0, 20.0, 23.0, 28.0, 27.0, 27.0, 27.0, 28.0, 30.0, 30.0, 30.0, 29.0, 30.0, 26.0, 28.0, 29.0, 30.0, 25.0, 15.0, 30.0, 30.0, 30.0, 30.0, 29.0, 27.0, 29.0, 29.0, 29.0, 29.0, 29.0, 29.0, 29.0, 30.0, 28.0, 29.0, 30.0, 30.0, 29.0, 30.0, 25.0, 29.0, 28.0, 29.0, 28.0, 30.0, 27.0, 28.0, 30.0, 29.0, 28.0, 29.0, 29.0, 26.0, 27.0, 25.0, 30.0, 29.0, 29.0, 28.0, 30.0, 30.0, 29.0, 30.0, 30.0, 30.0, 29.0, 20.0, 20.0, 29.0, 29.0, 28.0, 30.0, 29.0, 30.0, 30.0, 27.0, 29.0, 29.0, 29.0, 29.0, 28.0, 30.0, 30.0, 19.0, 18.0, 29.0, 29.0, 29.0, 28.0, 27.0, 29.0, 29.0, 30.0, 29.0, 23.0, 22.0, 23.0, 25.0, 23.0, 17.0, 30.0, 30.0, 30.0, 30.0, 30.0, 30.0, 29.0, 30.0, 30.0, 30.0, 26.0, 28.0, 28.0, 30.0, 30.0, 30.0, 26.0, 28.0, 29.0, 28.0, 30.0, 26.0, 26.0, 26.0, null, null, 23.0, 20.0, 30.0, 30.0, 30.0, 30.0, 24.0, 21.0, 28.0, 28.0, 26.0, 30.0, 30.0, 30.0], \"xaxis\": \"x8\", \"yaxis\": \"y8\"}],\n",
              "                        {\"template\": {\"data\": {\"bar\": [{\"error_x\": {\"color\": \"#2a3f5f\"}, \"error_y\": {\"color\": \"#2a3f5f\"}, \"marker\": {\"line\": {\"color\": \"#E5ECF6\", \"width\": 0.5}}, \"type\": \"bar\"}], \"barpolar\": [{\"marker\": {\"line\": {\"color\": \"#E5ECF6\", \"width\": 0.5}}, \"type\": \"barpolar\"}], \"carpet\": [{\"aaxis\": {\"endlinecolor\": \"#2a3f5f\", \"gridcolor\": \"white\", \"linecolor\": \"white\", \"minorgridcolor\": \"white\", \"startlinecolor\": \"#2a3f5f\"}, \"baxis\": {\"endlinecolor\": \"#2a3f5f\", \"gridcolor\": \"white\", \"linecolor\": \"white\", \"minorgridcolor\": \"white\", \"startlinecolor\": \"#2a3f5f\"}, \"type\": \"carpet\"}], \"choropleth\": [{\"colorbar\": {\"outlinewidth\": 0, \"ticks\": \"\"}, \"type\": \"choropleth\"}], \"contour\": [{\"colorbar\": {\"outlinewidth\": 0, \"ticks\": \"\"}, \"colorscale\": [[0.0, \"#0d0887\"], [0.1111111111111111, \"#46039f\"], [0.2222222222222222, \"#7201a8\"], [0.3333333333333333, \"#9c179e\"], [0.4444444444444444, \"#bd3786\"], [0.5555555555555556, \"#d8576b\"], [0.6666666666666666, \"#ed7953\"], [0.7777777777777778, \"#fb9f3a\"], [0.8888888888888888, \"#fdca26\"], [1.0, \"#f0f921\"]], \"type\": \"contour\"}], \"contourcarpet\": [{\"colorbar\": {\"outlinewidth\": 0, \"ticks\": \"\"}, \"type\": \"contourcarpet\"}], \"heatmap\": [{\"colorbar\": {\"outlinewidth\": 0, \"ticks\": \"\"}, \"colorscale\": [[0.0, \"#0d0887\"], [0.1111111111111111, \"#46039f\"], [0.2222222222222222, \"#7201a8\"], [0.3333333333333333, \"#9c179e\"], [0.4444444444444444, \"#bd3786\"], [0.5555555555555556, \"#d8576b\"], [0.6666666666666666, \"#ed7953\"], [0.7777777777777778, \"#fb9f3a\"], [0.8888888888888888, \"#fdca26\"], [1.0, \"#f0f921\"]], \"type\": \"heatmap\"}], \"heatmapgl\": [{\"colorbar\": {\"outlinewidth\": 0, \"ticks\": \"\"}, \"colorscale\": [[0.0, \"#0d0887\"], [0.1111111111111111, \"#46039f\"], [0.2222222222222222, \"#7201a8\"], [0.3333333333333333, \"#9c179e\"], [0.4444444444444444, \"#bd3786\"], [0.5555555555555556, \"#d8576b\"], [0.6666666666666666, \"#ed7953\"], [0.7777777777777778, \"#fb9f3a\"], [0.8888888888888888, \"#fdca26\"], [1.0, \"#f0f921\"]], \"type\": \"heatmapgl\"}], \"histogram\": [{\"marker\": {\"colorbar\": {\"outlinewidth\": 0, \"ticks\": \"\"}}, \"type\": \"histogram\"}], \"histogram2d\": [{\"colorbar\": {\"outlinewidth\": 0, \"ticks\": \"\"}, \"colorscale\": [[0.0, \"#0d0887\"], [0.1111111111111111, \"#46039f\"], [0.2222222222222222, \"#7201a8\"], [0.3333333333333333, \"#9c179e\"], [0.4444444444444444, \"#bd3786\"], [0.5555555555555556, \"#d8576b\"], [0.6666666666666666, \"#ed7953\"], [0.7777777777777778, \"#fb9f3a\"], [0.8888888888888888, \"#fdca26\"], [1.0, \"#f0f921\"]], \"type\": \"histogram2d\"}], \"histogram2dcontour\": [{\"colorbar\": {\"outlinewidth\": 0, \"ticks\": \"\"}, \"colorscale\": [[0.0, \"#0d0887\"], [0.1111111111111111, \"#46039f\"], [0.2222222222222222, \"#7201a8\"], [0.3333333333333333, \"#9c179e\"], [0.4444444444444444, \"#bd3786\"], [0.5555555555555556, \"#d8576b\"], [0.6666666666666666, \"#ed7953\"], [0.7777777777777778, \"#fb9f3a\"], [0.8888888888888888, \"#fdca26\"], [1.0, \"#f0f921\"]], \"type\": \"histogram2dcontour\"}], \"mesh3d\": [{\"colorbar\": {\"outlinewidth\": 0, \"ticks\": \"\"}, \"type\": \"mesh3d\"}], \"parcoords\": [{\"line\": {\"colorbar\": {\"outlinewidth\": 0, \"ticks\": \"\"}}, \"type\": \"parcoords\"}], \"pie\": [{\"automargin\": true, \"type\": \"pie\"}], \"scatter\": [{\"marker\": {\"colorbar\": {\"outlinewidth\": 0, \"ticks\": \"\"}}, \"type\": \"scatter\"}], \"scatter3d\": [{\"line\": {\"colorbar\": {\"outlinewidth\": 0, \"ticks\": \"\"}}, \"marker\": {\"colorbar\": {\"outlinewidth\": 0, \"ticks\": \"\"}}, \"type\": \"scatter3d\"}], \"scattercarpet\": [{\"marker\": {\"colorbar\": {\"outlinewidth\": 0, \"ticks\": \"\"}}, \"type\": \"scattercarpet\"}], \"scattergeo\": [{\"marker\": {\"colorbar\": {\"outlinewidth\": 0, \"ticks\": \"\"}}, \"type\": \"scattergeo\"}], \"scattergl\": [{\"marker\": {\"colorbar\": {\"outlinewidth\": 0, \"ticks\": \"\"}}, \"type\": \"scattergl\"}], \"scattermapbox\": [{\"marker\": {\"colorbar\": {\"outlinewidth\": 0, \"ticks\": \"\"}}, \"type\": \"scattermapbox\"}], \"scatterpolar\": [{\"marker\": {\"colorbar\": {\"outlinewidth\": 0, \"ticks\": \"\"}}, \"type\": \"scatterpolar\"}], \"scatterpolargl\": [{\"marker\": {\"colorbar\": {\"outlinewidth\": 0, \"ticks\": \"\"}}, \"type\": \"scatterpolargl\"}], \"scatterternary\": [{\"marker\": {\"colorbar\": {\"outlinewidth\": 0, \"ticks\": \"\"}}, \"type\": \"scatterternary\"}], \"surface\": [{\"colorbar\": {\"outlinewidth\": 0, \"ticks\": \"\"}, \"colorscale\": [[0.0, \"#0d0887\"], [0.1111111111111111, \"#46039f\"], [0.2222222222222222, \"#7201a8\"], [0.3333333333333333, \"#9c179e\"], [0.4444444444444444, \"#bd3786\"], [0.5555555555555556, \"#d8576b\"], [0.6666666666666666, \"#ed7953\"], [0.7777777777777778, \"#fb9f3a\"], [0.8888888888888888, \"#fdca26\"], [1.0, \"#f0f921\"]], \"type\": \"surface\"}], \"table\": [{\"cells\": {\"fill\": {\"color\": \"#EBF0F8\"}, \"line\": {\"color\": \"white\"}}, \"header\": {\"fill\": {\"color\": \"#C8D4E3\"}, \"line\": {\"color\": \"white\"}}, \"type\": \"table\"}]}, \"layout\": {\"annotationdefaults\": {\"arrowcolor\": \"#2a3f5f\", \"arrowhead\": 0, \"arrowwidth\": 1}, \"coloraxis\": {\"colorbar\": {\"outlinewidth\": 0, \"ticks\": \"\"}}, \"colorscale\": {\"diverging\": [[0, \"#8e0152\"], [0.1, \"#c51b7d\"], [0.2, \"#de77ae\"], [0.3, \"#f1b6da\"], [0.4, \"#fde0ef\"], [0.5, \"#f7f7f7\"], [0.6, \"#e6f5d0\"], [0.7, \"#b8e186\"], [0.8, \"#7fbc41\"], [0.9, \"#4d9221\"], [1, \"#276419\"]], \"sequential\": [[0.0, \"#0d0887\"], [0.1111111111111111, \"#46039f\"], [0.2222222222222222, \"#7201a8\"], [0.3333333333333333, \"#9c179e\"], [0.4444444444444444, \"#bd3786\"], [0.5555555555555556, \"#d8576b\"], [0.6666666666666666, \"#ed7953\"], [0.7777777777777778, \"#fb9f3a\"], [0.8888888888888888, \"#fdca26\"], [1.0, \"#f0f921\"]], \"sequentialminus\": [[0.0, \"#0d0887\"], [0.1111111111111111, \"#46039f\"], [0.2222222222222222, \"#7201a8\"], [0.3333333333333333, \"#9c179e\"], [0.4444444444444444, \"#bd3786\"], [0.5555555555555556, \"#d8576b\"], [0.6666666666666666, \"#ed7953\"], [0.7777777777777778, \"#fb9f3a\"], [0.8888888888888888, \"#fdca26\"], [1.0, \"#f0f921\"]]}, \"colorway\": [\"#636efa\", \"#EF553B\", \"#00cc96\", \"#ab63fa\", \"#FFA15A\", \"#19d3f3\", \"#FF6692\", \"#B6E880\", \"#FF97FF\", \"#FECB52\"], \"font\": {\"color\": \"#2a3f5f\"}, \"geo\": {\"bgcolor\": \"white\", \"lakecolor\": \"white\", \"landcolor\": \"#E5ECF6\", \"showlakes\": true, \"showland\": true, \"subunitcolor\": \"white\"}, \"hoverlabel\": {\"align\": \"left\"}, \"hovermode\": \"closest\", \"mapbox\": {\"style\": \"light\"}, \"paper_bgcolor\": \"white\", \"plot_bgcolor\": \"#E5ECF6\", \"polar\": {\"angularaxis\": {\"gridcolor\": \"white\", \"linecolor\": \"white\", \"ticks\": \"\"}, \"bgcolor\": \"#E5ECF6\", \"radialaxis\": {\"gridcolor\": \"white\", \"linecolor\": \"white\", \"ticks\": \"\"}}, \"scene\": {\"xaxis\": {\"backgroundcolor\": \"#E5ECF6\", \"gridcolor\": \"white\", \"gridwidth\": 2, \"linecolor\": \"white\", \"showbackground\": true, \"ticks\": \"\", \"zerolinecolor\": \"white\"}, \"yaxis\": {\"backgroundcolor\": \"#E5ECF6\", \"gridcolor\": \"white\", \"gridwidth\": 2, \"linecolor\": \"white\", \"showbackground\": true, \"ticks\": \"\", \"zerolinecolor\": \"white\"}, \"zaxis\": {\"backgroundcolor\": \"#E5ECF6\", \"gridcolor\": \"white\", \"gridwidth\": 2, \"linecolor\": \"white\", \"showbackground\": true, \"ticks\": \"\", \"zerolinecolor\": \"white\"}}, \"shapedefaults\": {\"line\": {\"color\": \"#2a3f5f\"}}, \"ternary\": {\"aaxis\": {\"gridcolor\": \"white\", \"linecolor\": \"white\", \"ticks\": \"\"}, \"baxis\": {\"gridcolor\": \"white\", \"linecolor\": \"white\", \"ticks\": \"\"}, \"bgcolor\": \"#E5ECF6\", \"caxis\": {\"gridcolor\": \"white\", \"linecolor\": \"white\", \"ticks\": \"\"}}, \"title\": {\"x\": 0.05}, \"xaxis\": {\"automargin\": true, \"gridcolor\": \"white\", \"linecolor\": \"white\", \"ticks\": \"\", \"title\": {\"standoff\": 15}, \"zerolinecolor\": \"white\", \"zerolinewidth\": 2}, \"yaxis\": {\"automargin\": true, \"gridcolor\": \"white\", \"linecolor\": \"white\", \"ticks\": \"\", \"title\": {\"standoff\": 15}, \"zerolinecolor\": \"white\", \"zerolinewidth\": 2}}}, \"xaxis\": {\"anchor\": \"y\", \"domain\": [0.0, 0.45]}, \"xaxis2\": {\"anchor\": \"y2\", \"domain\": [0.55, 1.0]}, \"xaxis3\": {\"anchor\": \"y3\", \"domain\": [0.0, 0.45]}, \"xaxis4\": {\"anchor\": \"y4\", \"domain\": [0.55, 1.0]}, \"xaxis5\": {\"anchor\": \"y5\", \"domain\": [0.0, 0.45]}, \"xaxis6\": {\"anchor\": \"y6\", \"domain\": [0.55, 1.0]}, \"xaxis7\": {\"anchor\": \"y7\", \"domain\": [0.0, 0.45]}, \"xaxis8\": {\"anchor\": \"y8\", \"domain\": [0.55, 1.0]}, \"yaxis\": {\"anchor\": \"x\", \"domain\": [0.80625, 1.0]}, \"yaxis2\": {\"anchor\": \"x2\", \"domain\": [0.80625, 1.0]}, \"yaxis3\": {\"anchor\": \"x3\", \"domain\": [0.5375, 0.73125]}, \"yaxis4\": {\"anchor\": \"x4\", \"domain\": [0.5375, 0.73125]}, \"yaxis5\": {\"anchor\": \"x5\", \"domain\": [0.26875, 0.4625]}, \"yaxis6\": {\"anchor\": \"x6\", \"domain\": [0.26875, 0.4625]}, \"yaxis7\": {\"anchor\": \"x7\", \"domain\": [0.0, 0.19375]}, \"yaxis8\": {\"anchor\": \"x8\", \"domain\": [0.0, 0.19375]}},\n",
              "                        {\"responsive\": true}\n",
              "                    ).then(function(){\n",
              "                            \n",
              "var gd = document.getElementById('b93628e6-0a75-4f64-a77f-bd9e4dd2c3df');\n",
              "var x = new MutationObserver(function (mutations, observer) {{\n",
              "        var display = window.getComputedStyle(gd).display;\n",
              "        if (!display || display === 'none') {{\n",
              "            console.log([gd, 'removed!']);\n",
              "            Plotly.purge(gd);\n",
              "            observer.disconnect();\n",
              "        }}\n",
              "}});\n",
              "\n",
              "// Listen for the removal of the full notebook cells\n",
              "var notebookContainer = gd.closest('#notebook-container');\n",
              "if (notebookContainer) {{\n",
              "    x.observe(notebookContainer, {childList: true});\n",
              "}}\n",
              "\n",
              "// Listen for the clearing of the current output cell\n",
              "var outputEl = gd.closest('.output');\n",
              "if (outputEl) {{\n",
              "    x.observe(outputEl, {childList: true});\n",
              "}}\n",
              "\n",
              "                        })\n",
              "                };\n",
              "                \n",
              "            </script>\n",
              "        </div>\n",
              "</body>\n",
              "</html>"
            ]
          },
          "metadata": {}
        }
      ]
    },
    {
      "cell_type": "code",
      "metadata": {
        "colab": {
          "base_uri": "https://localhost:8080/",
          "height": 418
        },
        "id": "sWdpf15xkNJh",
        "outputId": "4e633cf9-d800-429a-a21e-2f25fadfe873"
      },
      "source": [
        "# Handling missing values\n",
        "X_complete = pd.DataFrame(X.shape[0] - X.isnull().sum(), columns=['CompleteSamples'])\n",
        "X_complete"
      ],
      "execution_count": null,
      "outputs": [
        {
          "output_type": "execute_result",
          "data": {
            "text/html": [
              "<div>\n",
              "<style scoped>\n",
              "    .dataframe tbody tr th:only-of-type {\n",
              "        vertical-align: middle;\n",
              "    }\n",
              "\n",
              "    .dataframe tbody tr th {\n",
              "        vertical-align: top;\n",
              "    }\n",
              "\n",
              "    .dataframe thead th {\n",
              "        text-align: right;\n",
              "    }\n",
              "</style>\n",
              "<table border=\"1\" class=\"dataframe\">\n",
              "  <thead>\n",
              "    <tr style=\"text-align: right;\">\n",
              "      <th></th>\n",
              "      <th>CompleteSamples</th>\n",
              "    </tr>\n",
              "  </thead>\n",
              "  <tbody>\n",
              "    <tr>\n",
              "      <th>Group</th>\n",
              "      <td>373</td>\n",
              "    </tr>\n",
              "    <tr>\n",
              "      <th>Visit</th>\n",
              "      <td>373</td>\n",
              "    </tr>\n",
              "    <tr>\n",
              "      <th>MR Delay</th>\n",
              "      <td>373</td>\n",
              "    </tr>\n",
              "    <tr>\n",
              "      <th>M/F</th>\n",
              "      <td>373</td>\n",
              "    </tr>\n",
              "    <tr>\n",
              "      <th>Age</th>\n",
              "      <td>373</td>\n",
              "    </tr>\n",
              "    <tr>\n",
              "      <th>EDUC</th>\n",
              "      <td>373</td>\n",
              "    </tr>\n",
              "    <tr>\n",
              "      <th>SES</th>\n",
              "      <td>354</td>\n",
              "    </tr>\n",
              "    <tr>\n",
              "      <th>MMSE</th>\n",
              "      <td>371</td>\n",
              "    </tr>\n",
              "    <tr>\n",
              "      <th>CDR</th>\n",
              "      <td>373</td>\n",
              "    </tr>\n",
              "    <tr>\n",
              "      <th>eTIV</th>\n",
              "      <td>373</td>\n",
              "    </tr>\n",
              "    <tr>\n",
              "      <th>nWBV</th>\n",
              "      <td>373</td>\n",
              "    </tr>\n",
              "    <tr>\n",
              "      <th>ASF</th>\n",
              "      <td>373</td>\n",
              "    </tr>\n",
              "  </tbody>\n",
              "</table>\n",
              "</div>"
            ],
            "text/plain": [
              "          CompleteSamples\n",
              "Group                 373\n",
              "Visit                 373\n",
              "MR Delay              373\n",
              "M/F                   373\n",
              "Age                   373\n",
              "EDUC                  373\n",
              "SES                   354\n",
              "MMSE                  371\n",
              "CDR                   373\n",
              "eTIV                  373\n",
              "nWBV                  373\n",
              "ASF                   373"
            ]
          },
          "metadata": {},
          "execution_count": 8
        }
      ]
    },
    {
      "cell_type": "code",
      "metadata": {
        "colab": {
          "base_uri": "https://localhost:8080/",
          "height": 418
        },
        "id": "QWfJuMKcm6nS",
        "outputId": "a3fe564b-2b56-4cc8-a3a5-9563ab665115"
      },
      "source": [
        "# SES( Nivel socieconómico) 1-> mejor nivel\n",
        "#                           5-> bajo nivel\n",
        "modaSES=X['SES'].mode()\n",
        "X['SES']=X['SES'].replace(np.NaN,modaSES[0])\n",
        "X_complete = pd.DataFrame(X.shape[0] - X.isnull().sum(), columns=['CompleteSamples'])\n",
        "X_complete\n"
      ],
      "execution_count": null,
      "outputs": [
        {
          "output_type": "execute_result",
          "data": {
            "text/html": [
              "<div>\n",
              "<style scoped>\n",
              "    .dataframe tbody tr th:only-of-type {\n",
              "        vertical-align: middle;\n",
              "    }\n",
              "\n",
              "    .dataframe tbody tr th {\n",
              "        vertical-align: top;\n",
              "    }\n",
              "\n",
              "    .dataframe thead th {\n",
              "        text-align: right;\n",
              "    }\n",
              "</style>\n",
              "<table border=\"1\" class=\"dataframe\">\n",
              "  <thead>\n",
              "    <tr style=\"text-align: right;\">\n",
              "      <th></th>\n",
              "      <th>CompleteSamples</th>\n",
              "    </tr>\n",
              "  </thead>\n",
              "  <tbody>\n",
              "    <tr>\n",
              "      <th>Group</th>\n",
              "      <td>373</td>\n",
              "    </tr>\n",
              "    <tr>\n",
              "      <th>Visit</th>\n",
              "      <td>373</td>\n",
              "    </tr>\n",
              "    <tr>\n",
              "      <th>MR Delay</th>\n",
              "      <td>373</td>\n",
              "    </tr>\n",
              "    <tr>\n",
              "      <th>M/F</th>\n",
              "      <td>373</td>\n",
              "    </tr>\n",
              "    <tr>\n",
              "      <th>Age</th>\n",
              "      <td>373</td>\n",
              "    </tr>\n",
              "    <tr>\n",
              "      <th>EDUC</th>\n",
              "      <td>373</td>\n",
              "    </tr>\n",
              "    <tr>\n",
              "      <th>SES</th>\n",
              "      <td>373</td>\n",
              "    </tr>\n",
              "    <tr>\n",
              "      <th>MMSE</th>\n",
              "      <td>371</td>\n",
              "    </tr>\n",
              "    <tr>\n",
              "      <th>CDR</th>\n",
              "      <td>373</td>\n",
              "    </tr>\n",
              "    <tr>\n",
              "      <th>eTIV</th>\n",
              "      <td>373</td>\n",
              "    </tr>\n",
              "    <tr>\n",
              "      <th>nWBV</th>\n",
              "      <td>373</td>\n",
              "    </tr>\n",
              "    <tr>\n",
              "      <th>ASF</th>\n",
              "      <td>373</td>\n",
              "    </tr>\n",
              "  </tbody>\n",
              "</table>\n",
              "</div>"
            ],
            "text/plain": [
              "          CompleteSamples\n",
              "Group                 373\n",
              "Visit                 373\n",
              "MR Delay              373\n",
              "M/F                   373\n",
              "Age                   373\n",
              "EDUC                  373\n",
              "SES                   373\n",
              "MMSE                  371\n",
              "CDR                   373\n",
              "eTIV                  373\n",
              "nWBV                  373\n",
              "ASF                   373"
            ]
          },
          "metadata": {},
          "execution_count": 9
        }
      ]
    },
    {
      "cell_type": "code",
      "metadata": {
        "colab": {
          "base_uri": "https://localhost:8080/",
          "height": 418
        },
        "id": "vNI4dMG7nrsk",
        "outputId": "76a2ed57-451b-4a3a-e699-d9d52ed54863"
      },
      "source": [
        "#MMSE\n",
        "X=X.dropna()\n",
        "X_complete = pd.DataFrame(X.shape[0] - X.isnull().sum(), columns=['CompleteSamples'])\n",
        "X_complete"
      ],
      "execution_count": null,
      "outputs": [
        {
          "output_type": "execute_result",
          "data": {
            "text/html": [
              "<div>\n",
              "<style scoped>\n",
              "    .dataframe tbody tr th:only-of-type {\n",
              "        vertical-align: middle;\n",
              "    }\n",
              "\n",
              "    .dataframe tbody tr th {\n",
              "        vertical-align: top;\n",
              "    }\n",
              "\n",
              "    .dataframe thead th {\n",
              "        text-align: right;\n",
              "    }\n",
              "</style>\n",
              "<table border=\"1\" class=\"dataframe\">\n",
              "  <thead>\n",
              "    <tr style=\"text-align: right;\">\n",
              "      <th></th>\n",
              "      <th>CompleteSamples</th>\n",
              "    </tr>\n",
              "  </thead>\n",
              "  <tbody>\n",
              "    <tr>\n",
              "      <th>Group</th>\n",
              "      <td>371</td>\n",
              "    </tr>\n",
              "    <tr>\n",
              "      <th>Visit</th>\n",
              "      <td>371</td>\n",
              "    </tr>\n",
              "    <tr>\n",
              "      <th>MR Delay</th>\n",
              "      <td>371</td>\n",
              "    </tr>\n",
              "    <tr>\n",
              "      <th>M/F</th>\n",
              "      <td>371</td>\n",
              "    </tr>\n",
              "    <tr>\n",
              "      <th>Age</th>\n",
              "      <td>371</td>\n",
              "    </tr>\n",
              "    <tr>\n",
              "      <th>EDUC</th>\n",
              "      <td>371</td>\n",
              "    </tr>\n",
              "    <tr>\n",
              "      <th>SES</th>\n",
              "      <td>371</td>\n",
              "    </tr>\n",
              "    <tr>\n",
              "      <th>MMSE</th>\n",
              "      <td>371</td>\n",
              "    </tr>\n",
              "    <tr>\n",
              "      <th>CDR</th>\n",
              "      <td>371</td>\n",
              "    </tr>\n",
              "    <tr>\n",
              "      <th>eTIV</th>\n",
              "      <td>371</td>\n",
              "    </tr>\n",
              "    <tr>\n",
              "      <th>nWBV</th>\n",
              "      <td>371</td>\n",
              "    </tr>\n",
              "    <tr>\n",
              "      <th>ASF</th>\n",
              "      <td>371</td>\n",
              "    </tr>\n",
              "  </tbody>\n",
              "</table>\n",
              "</div>"
            ],
            "text/plain": [
              "          CompleteSamples\n",
              "Group                 371\n",
              "Visit                 371\n",
              "MR Delay              371\n",
              "M/F                   371\n",
              "Age                   371\n",
              "EDUC                  371\n",
              "SES                   371\n",
              "MMSE                  371\n",
              "CDR                   371\n",
              "eTIV                  371\n",
              "nWBV                  371\n",
              "ASF                   371"
            ]
          },
          "metadata": {},
          "execution_count": 10
        }
      ]
    },
    {
      "cell_type": "code",
      "metadata": {
        "colab": {
          "base_uri": "https://localhost:8080/",
          "height": 693
        },
        "id": "ySDpqNefpiQs",
        "outputId": "eea4b6f1-052d-4013-9384-baea3895c078"
      },
      "source": [
        "display(X.info(), X.describe().T)"
      ],
      "execution_count": null,
      "outputs": [
        {
          "output_type": "stream",
          "name": "stdout",
          "text": [
            "<class 'pandas.core.frame.DataFrame'>\n",
            "Int64Index: 371 entries, 0 to 372\n",
            "Data columns (total 12 columns):\n",
            " #   Column    Non-Null Count  Dtype  \n",
            "---  ------    --------------  -----  \n",
            " 0   Group     371 non-null    object \n",
            " 1   Visit     371 non-null    int64  \n",
            " 2   MR Delay  371 non-null    int64  \n",
            " 3   M/F       371 non-null    object \n",
            " 4   Age       371 non-null    int64  \n",
            " 5   EDUC      371 non-null    int64  \n",
            " 6   SES       371 non-null    float64\n",
            " 7   MMSE      371 non-null    float64\n",
            " 8   CDR       371 non-null    float64\n",
            " 9   eTIV      371 non-null    int64  \n",
            " 10  nWBV      371 non-null    float64\n",
            " 11  ASF       371 non-null    float64\n",
            "dtypes: float64(5), int64(5), object(2)\n",
            "memory usage: 37.7+ KB\n"
          ]
        },
        {
          "output_type": "display_data",
          "data": {
            "text/plain": [
              "None"
            ]
          },
          "metadata": {}
        },
        {
          "output_type": "display_data",
          "data": {
            "text/html": [
              "<div>\n",
              "<style scoped>\n",
              "    .dataframe tbody tr th:only-of-type {\n",
              "        vertical-align: middle;\n",
              "    }\n",
              "\n",
              "    .dataframe tbody tr th {\n",
              "        vertical-align: top;\n",
              "    }\n",
              "\n",
              "    .dataframe thead th {\n",
              "        text-align: right;\n",
              "    }\n",
              "</style>\n",
              "<table border=\"1\" class=\"dataframe\">\n",
              "  <thead>\n",
              "    <tr style=\"text-align: right;\">\n",
              "      <th></th>\n",
              "      <th>count</th>\n",
              "      <th>mean</th>\n",
              "      <th>std</th>\n",
              "      <th>min</th>\n",
              "      <th>25%</th>\n",
              "      <th>50%</th>\n",
              "      <th>75%</th>\n",
              "      <th>max</th>\n",
              "    </tr>\n",
              "  </thead>\n",
              "  <tbody>\n",
              "    <tr>\n",
              "      <th>Visit</th>\n",
              "      <td>371.0</td>\n",
              "      <td>1.878706</td>\n",
              "      <td>0.923480</td>\n",
              "      <td>1.000</td>\n",
              "      <td>1.0000</td>\n",
              "      <td>2.000</td>\n",
              "      <td>2.000</td>\n",
              "      <td>5.000</td>\n",
              "    </tr>\n",
              "    <tr>\n",
              "      <th>MR Delay</th>\n",
              "      <td>371.0</td>\n",
              "      <td>593.876011</td>\n",
              "      <td>636.636500</td>\n",
              "      <td>0.000</td>\n",
              "      <td>0.0000</td>\n",
              "      <td>552.000</td>\n",
              "      <td>869.500</td>\n",
              "      <td>2639.000</td>\n",
              "    </tr>\n",
              "    <tr>\n",
              "      <th>Age</th>\n",
              "      <td>371.0</td>\n",
              "      <td>77.018868</td>\n",
              "      <td>7.660864</td>\n",
              "      <td>60.000</td>\n",
              "      <td>71.0000</td>\n",
              "      <td>77.000</td>\n",
              "      <td>82.000</td>\n",
              "      <td>98.000</td>\n",
              "    </tr>\n",
              "    <tr>\n",
              "      <th>EDUC</th>\n",
              "      <td>371.0</td>\n",
              "      <td>14.611860</td>\n",
              "      <td>2.877737</td>\n",
              "      <td>6.000</td>\n",
              "      <td>12.0000</td>\n",
              "      <td>15.000</td>\n",
              "      <td>16.000</td>\n",
              "      <td>23.000</td>\n",
              "    </tr>\n",
              "    <tr>\n",
              "      <th>SES</th>\n",
              "      <td>371.0</td>\n",
              "      <td>2.439353</td>\n",
              "      <td>1.111835</td>\n",
              "      <td>1.000</td>\n",
              "      <td>2.0000</td>\n",
              "      <td>2.000</td>\n",
              "      <td>3.000</td>\n",
              "      <td>5.000</td>\n",
              "    </tr>\n",
              "    <tr>\n",
              "      <th>MMSE</th>\n",
              "      <td>371.0</td>\n",
              "      <td>27.342318</td>\n",
              "      <td>3.683244</td>\n",
              "      <td>4.000</td>\n",
              "      <td>27.0000</td>\n",
              "      <td>29.000</td>\n",
              "      <td>30.000</td>\n",
              "      <td>30.000</td>\n",
              "    </tr>\n",
              "    <tr>\n",
              "      <th>CDR</th>\n",
              "      <td>371.0</td>\n",
              "      <td>0.287062</td>\n",
              "      <td>0.371912</td>\n",
              "      <td>0.000</td>\n",
              "      <td>0.0000</td>\n",
              "      <td>0.000</td>\n",
              "      <td>0.500</td>\n",
              "      <td>2.000</td>\n",
              "    </tr>\n",
              "    <tr>\n",
              "      <th>eTIV</th>\n",
              "      <td>371.0</td>\n",
              "      <td>1489.876011</td>\n",
              "      <td>174.990473</td>\n",
              "      <td>1106.000</td>\n",
              "      <td>1358.5000</td>\n",
              "      <td>1471.000</td>\n",
              "      <td>1598.000</td>\n",
              "      <td>2004.000</td>\n",
              "    </tr>\n",
              "    <tr>\n",
              "      <th>nWBV</th>\n",
              "      <td>371.0</td>\n",
              "      <td>0.729526</td>\n",
              "      <td>0.037229</td>\n",
              "      <td>0.644</td>\n",
              "      <td>0.7000</td>\n",
              "      <td>0.729</td>\n",
              "      <td>0.756</td>\n",
              "      <td>0.837</td>\n",
              "    </tr>\n",
              "    <tr>\n",
              "      <th>ASF</th>\n",
              "      <td>371.0</td>\n",
              "      <td>1.193776</td>\n",
              "      <td>0.136533</td>\n",
              "      <td>0.876</td>\n",
              "      <td>1.0985</td>\n",
              "      <td>1.193</td>\n",
              "      <td>1.292</td>\n",
              "      <td>1.587</td>\n",
              "    </tr>\n",
              "  </tbody>\n",
              "</table>\n",
              "</div>"
            ],
            "text/plain": [
              "          count         mean         std  ...       50%       75%       max\n",
              "Visit     371.0     1.878706    0.923480  ...     2.000     2.000     5.000\n",
              "MR Delay  371.0   593.876011  636.636500  ...   552.000   869.500  2639.000\n",
              "Age       371.0    77.018868    7.660864  ...    77.000    82.000    98.000\n",
              "EDUC      371.0    14.611860    2.877737  ...    15.000    16.000    23.000\n",
              "SES       371.0     2.439353    1.111835  ...     2.000     3.000     5.000\n",
              "MMSE      371.0    27.342318    3.683244  ...    29.000    30.000    30.000\n",
              "CDR       371.0     0.287062    0.371912  ...     0.000     0.500     2.000\n",
              "eTIV      371.0  1489.876011  174.990473  ...  1471.000  1598.000  2004.000\n",
              "nWBV      371.0     0.729526    0.037229  ...     0.729     0.756     0.837\n",
              "ASF       371.0     1.193776    0.136533  ...     1.193     1.292     1.587\n",
              "\n",
              "[10 rows x 8 columns]"
            ]
          },
          "metadata": {}
        }
      ]
    },
    {
      "cell_type": "code",
      "metadata": {
        "colab": {
          "base_uri": "https://localhost:8080/"
        },
        "id": "jf3X0tITp3kB",
        "outputId": "c8865f30-4ef3-4323-dfa0-e841de9bd363"
      },
      "source": [
        "#Tratando los datos categoricos:\n",
        "X['M/F']=X['M/F'].replace('M',0)\n",
        "X['M/F']=X['M/F'].replace('F',1)\n",
        "X.columns"
      ],
      "execution_count": null,
      "outputs": [
        {
          "output_type": "execute_result",
          "data": {
            "text/plain": [
              "Index(['Group', 'Visit', 'MR Delay', 'M/F', 'Age', 'EDUC', 'SES', 'MMSE',\n",
              "       'CDR', 'eTIV', 'nWBV', 'ASF'],\n",
              "      dtype='object')"
            ]
          },
          "metadata": {},
          "execution_count": 12
        }
      ]
    },
    {
      "cell_type": "code",
      "metadata": {
        "id": "Xfn8TKqAg7wv"
      },
      "source": [
        "y = X.pop('Group')"
      ],
      "execution_count": null,
      "outputs": []
    },
    {
      "cell_type": "code",
      "metadata": {
        "colab": {
          "base_uri": "https://localhost:8080/",
          "height": 357
        },
        "id": "6ufgKXwwotkx",
        "outputId": "9aab5bed-20b9-4415-c1e5-f7405583b04d"
      },
      "source": [
        "#Normalizando el dataset:\n",
        "from sklearn.preprocessing import MinMaxScaler\n",
        "scaler=MinMaxScaler(feature_range=(0,1))#normaliza todos los datos en una escala entre 0 a 1, siendo 0 el valor más pequeño y 1 el más grande\n",
        "Xnorm=scaler.fit_transform(X)\n",
        "Xf=pd.DataFrame(Xnorm,columns=[X.columns])\n",
        "Xf.head(10)"
      ],
      "execution_count": null,
      "outputs": [
        {
          "output_type": "execute_result",
          "data": {
            "text/html": [
              "<div>\n",
              "<style scoped>\n",
              "    .dataframe tbody tr th:only-of-type {\n",
              "        vertical-align: middle;\n",
              "    }\n",
              "\n",
              "    .dataframe tbody tr th {\n",
              "        vertical-align: top;\n",
              "    }\n",
              "\n",
              "    .dataframe thead tr th {\n",
              "        text-align: left;\n",
              "    }\n",
              "</style>\n",
              "<table border=\"1\" class=\"dataframe\">\n",
              "  <thead>\n",
              "    <tr>\n",
              "      <th></th>\n",
              "      <th>Visit</th>\n",
              "      <th>MR Delay</th>\n",
              "      <th>M/F</th>\n",
              "      <th>Age</th>\n",
              "      <th>EDUC</th>\n",
              "      <th>SES</th>\n",
              "      <th>MMSE</th>\n",
              "      <th>CDR</th>\n",
              "      <th>eTIV</th>\n",
              "      <th>nWBV</th>\n",
              "      <th>ASF</th>\n",
              "    </tr>\n",
              "  </thead>\n",
              "  <tbody>\n",
              "    <tr>\n",
              "      <th>0</th>\n",
              "      <td>0.00</td>\n",
              "      <td>0.000000</td>\n",
              "      <td>0.0</td>\n",
              "      <td>0.710526</td>\n",
              "      <td>0.470588</td>\n",
              "      <td>0.25</td>\n",
              "      <td>0.884615</td>\n",
              "      <td>0.00</td>\n",
              "      <td>0.981069</td>\n",
              "      <td>0.269430</td>\n",
              "      <td>0.009845</td>\n",
              "    </tr>\n",
              "    <tr>\n",
              "      <th>1</th>\n",
              "      <td>0.25</td>\n",
              "      <td>0.173172</td>\n",
              "      <td>0.0</td>\n",
              "      <td>0.736842</td>\n",
              "      <td>0.470588</td>\n",
              "      <td>0.25</td>\n",
              "      <td>1.000000</td>\n",
              "      <td>0.00</td>\n",
              "      <td>1.000000</td>\n",
              "      <td>0.191710</td>\n",
              "      <td>0.000000</td>\n",
              "    </tr>\n",
              "    <tr>\n",
              "      <th>2</th>\n",
              "      <td>0.00</td>\n",
              "      <td>0.000000</td>\n",
              "      <td>0.0</td>\n",
              "      <td>0.394737</td>\n",
              "      <td>0.352941</td>\n",
              "      <td>0.25</td>\n",
              "      <td>0.730769</td>\n",
              "      <td>0.25</td>\n",
              "      <td>0.636971</td>\n",
              "      <td>0.476684</td>\n",
              "      <td>0.239100</td>\n",
              "    </tr>\n",
              "    <tr>\n",
              "      <th>3</th>\n",
              "      <td>0.25</td>\n",
              "      <td>0.212202</td>\n",
              "      <td>0.0</td>\n",
              "      <td>0.421053</td>\n",
              "      <td>0.352941</td>\n",
              "      <td>0.25</td>\n",
              "      <td>0.923077</td>\n",
              "      <td>0.25</td>\n",
              "      <td>0.703786</td>\n",
              "      <td>0.357513</td>\n",
              "      <td>0.188467</td>\n",
              "    </tr>\n",
              "    <tr>\n",
              "      <th>4</th>\n",
              "      <td>0.50</td>\n",
              "      <td>0.718075</td>\n",
              "      <td>0.0</td>\n",
              "      <td>0.526316</td>\n",
              "      <td>0.352941</td>\n",
              "      <td>0.25</td>\n",
              "      <td>0.692308</td>\n",
              "      <td>0.25</td>\n",
              "      <td>0.659243</td>\n",
              "      <td>0.295337</td>\n",
              "      <td>0.222222</td>\n",
              "    </tr>\n",
              "    <tr>\n",
              "      <th>5</th>\n",
              "      <td>0.00</td>\n",
              "      <td>0.000000</td>\n",
              "      <td>1.0</td>\n",
              "      <td>0.736842</td>\n",
              "      <td>0.705882</td>\n",
              "      <td>0.50</td>\n",
              "      <td>0.923077</td>\n",
              "      <td>0.00</td>\n",
              "      <td>0.121381</td>\n",
              "      <td>0.341969</td>\n",
              "      <td>0.798875</td>\n",
              "    </tr>\n",
              "    <tr>\n",
              "      <th>6</th>\n",
              "      <td>0.25</td>\n",
              "      <td>0.203865</td>\n",
              "      <td>1.0</td>\n",
              "      <td>0.789474</td>\n",
              "      <td>0.705882</td>\n",
              "      <td>0.50</td>\n",
              "      <td>0.884615</td>\n",
              "      <td>0.00</td>\n",
              "      <td>0.104677</td>\n",
              "      <td>0.383420</td>\n",
              "      <td>0.824191</td>\n",
              "    </tr>\n",
              "    <tr>\n",
              "      <th>7</th>\n",
              "      <td>0.00</td>\n",
              "      <td>0.000000</td>\n",
              "      <td>0.0</td>\n",
              "      <td>0.526316</td>\n",
              "      <td>0.352941</td>\n",
              "      <td>0.75</td>\n",
              "      <td>0.923077</td>\n",
              "      <td>0.00</td>\n",
              "      <td>0.649220</td>\n",
              "      <td>0.352332</td>\n",
              "      <td>0.229255</td>\n",
              "    </tr>\n",
              "    <tr>\n",
              "      <th>8</th>\n",
              "      <td>0.25</td>\n",
              "      <td>0.382721</td>\n",
              "      <td>0.0</td>\n",
              "      <td>0.605263</td>\n",
              "      <td>0.352941</td>\n",
              "      <td>0.75</td>\n",
              "      <td>0.961538</td>\n",
              "      <td>0.25</td>\n",
              "      <td>0.662584</td>\n",
              "      <td>0.347150</td>\n",
              "      <td>0.219409</td>\n",
              "    </tr>\n",
              "    <tr>\n",
              "      <th>9</th>\n",
              "      <td>0.50</td>\n",
              "      <td>0.607427</td>\n",
              "      <td>0.0</td>\n",
              "      <td>0.657895</td>\n",
              "      <td>0.352941</td>\n",
              "      <td>0.75</td>\n",
              "      <td>1.000000</td>\n",
              "      <td>0.00</td>\n",
              "      <td>0.660356</td>\n",
              "      <td>0.316062</td>\n",
              "      <td>0.220816</td>\n",
              "    </tr>\n",
              "  </tbody>\n",
              "</table>\n",
              "</div>"
            ],
            "text/plain": [
              "  Visit  MR Delay  M/F       Age  ...   CDR      eTIV      nWBV       ASF\n",
              "0  0.00  0.000000  0.0  0.710526  ...  0.00  0.981069  0.269430  0.009845\n",
              "1  0.25  0.173172  0.0  0.736842  ...  0.00  1.000000  0.191710  0.000000\n",
              "2  0.00  0.000000  0.0  0.394737  ...  0.25  0.636971  0.476684  0.239100\n",
              "3  0.25  0.212202  0.0  0.421053  ...  0.25  0.703786  0.357513  0.188467\n",
              "4  0.50  0.718075  0.0  0.526316  ...  0.25  0.659243  0.295337  0.222222\n",
              "5  0.00  0.000000  1.0  0.736842  ...  0.00  0.121381  0.341969  0.798875\n",
              "6  0.25  0.203865  1.0  0.789474  ...  0.00  0.104677  0.383420  0.824191\n",
              "7  0.00  0.000000  0.0  0.526316  ...  0.00  0.649220  0.352332  0.229255\n",
              "8  0.25  0.382721  0.0  0.605263  ...  0.25  0.662584  0.347150  0.219409\n",
              "9  0.50  0.607427  0.0  0.657895  ...  0.00  0.660356  0.316062  0.220816\n",
              "\n",
              "[10 rows x 11 columns]"
            ]
          },
          "metadata": {},
          "execution_count": 14
        }
      ]
    },
    {
      "cell_type": "code",
      "metadata": {
        "colab": {
          "base_uri": "https://localhost:8080/"
        },
        "id": "vzkjXoaMruk7",
        "outputId": "b4e3f379-30e4-42f1-aa97-a7b82d4726e0"
      },
      "source": [
        "y.head(20)"
      ],
      "execution_count": null,
      "outputs": [
        {
          "output_type": "execute_result",
          "data": {
            "text/plain": [
              "0     Nondemented\n",
              "1     Nondemented\n",
              "2        Demented\n",
              "3        Demented\n",
              "4        Demented\n",
              "5     Nondemented\n",
              "6     Nondemented\n",
              "7     Nondemented\n",
              "8     Nondemented\n",
              "9     Nondemented\n",
              "10       Demented\n",
              "11       Demented\n",
              "12       Demented\n",
              "13    Nondemented\n",
              "14    Nondemented\n",
              "15       Demented\n",
              "16       Demented\n",
              "17       Demented\n",
              "18       Demented\n",
              "19    Nondemented\n",
              "Name: Group, dtype: object"
            ]
          },
          "metadata": {},
          "execution_count": 15
        }
      ]
    },
    {
      "cell_type": "code",
      "metadata": {
        "colab": {
          "base_uri": "https://localhost:8080/"
        },
        "id": "_Ob6JBHBfypG",
        "outputId": "cfdd64f0-12e6-4024-e765-ad6372817151"
      },
      "source": [
        "print(len(y))"
      ],
      "execution_count": null,
      "outputs": [
        {
          "output_type": "stream",
          "name": "stdout",
          "text": [
            "371\n"
          ]
        }
      ]
    },
    {
      "cell_type": "markdown",
      "metadata": {
        "id": "LR3MavK-hoNP"
      },
      "source": [
        "# **Binarización del Dataset.**\n",
        "\n",
        "Para poder tener representadas las dos clases principales de forma más robusta, se optó por considerar a los \"convertidos\" (\"converted\") como personas con un grado de enfermedad avanzada, correspondientes con la clase \"Demented\", ya que son personas que cumplen con los requisitos para ser considerados con demencia. La diferencia radicaba en que no presentaron estas características sino hasta después de su primera cita. Sin embargo, no estamos considerando el número de citas, sino el resto de las características presentes en el set de datos, bajo las cuales si pueden ser considerados bajo la categoría \"Demented.\""
      ]
    },
    {
      "cell_type": "code",
      "metadata": {
        "id": "tP49apcajZWz"
      },
      "source": [
        "# Distribución original\n",
        "#with pd.option_context('display.max_rows', None, 'display.max_columns', None):  \n",
        "  # print(y)"
      ],
      "execution_count": null,
      "outputs": []
    },
    {
      "cell_type": "code",
      "metadata": {
        "colab": {
          "base_uri": "https://localhost:8080/"
        },
        "id": "tVkduQfrzvrX",
        "outputId": "7d00128f-cef4-47e5-e257-8cdb1a66c02c"
      },
      "source": [
        "# Distribución de valores (y original): \n",
        "y.value_counts()"
      ],
      "execution_count": null,
      "outputs": [
        {
          "output_type": "execute_result",
          "data": {
            "text/plain": [
              "Nondemented    190\n",
              "Demented       144\n",
              "Converted       37\n",
              "Name: Group, dtype: int64"
            ]
          },
          "metadata": {},
          "execution_count": 17
        }
      ]
    },
    {
      "cell_type": "markdown",
      "metadata": {
        "id": "GEizhxMcvyUL"
      },
      "source": [
        "## Aquí se realizó el cambio de los valores. "
      ]
    },
    {
      "cell_type": "code",
      "metadata": {
        "id": "-Y7aCtqbkeZd"
      },
      "source": [
        "y_conv = y.str.replace('Converted', 'Demented')"
      ],
      "execution_count": null,
      "outputs": []
    },
    {
      "cell_type": "code",
      "metadata": {
        "id": "vpozy9BplKD_"
      },
      "source": [
        "# Impresión de los valores ya cambiados\n",
        "#with pd.option_context('display.max_rows', None, 'display.max_columns', None):  \n",
        "#  print(y_conv)"
      ],
      "execution_count": null,
      "outputs": []
    },
    {
      "cell_type": "code",
      "metadata": {
        "colab": {
          "base_uri": "https://localhost:8080/"
        },
        "id": "mdDLyKHOxtzX",
        "outputId": "4d9a9008-54d5-42e0-fedf-3d1adee7b441"
      },
      "source": [
        "y_conv.value_counts()"
      ],
      "execution_count": null,
      "outputs": [
        {
          "output_type": "execute_result",
          "data": {
            "text/plain": [
              "Nondemented    190\n",
              "Demented       181\n",
              "Name: Group, dtype: int64"
            ]
          },
          "metadata": {},
          "execution_count": 20
        }
      ]
    },
    {
      "cell_type": "code",
      "metadata": {
        "colab": {
          "base_uri": "https://localhost:8080/",
          "height": 542
        },
        "id": "BLj12CfMyZ9v",
        "outputId": "5d258399-8427-41a7-9f45-ec43a8f2bed9"
      },
      "source": [
        "fig = go.Figure(data=go.Pie(labels=['Nondemented', 'Demented'], values=y_conv.value_counts(),\n",
        "                            textfont = dict(size=15), opacity=0.7,\n",
        "                            marker = dict(colors=['aquamarine', 'teal'],\n",
        "                                          line=dict(color='black', width=2.9))))\n",
        "fig.update_layout(\n",
        "    title = 'Balance de clases',\n",
        "    legend = dict(x=0.7, y=1.0)\n",
        ")\n",
        "fig.show(renderer='colab')"
      ],
      "execution_count": null,
      "outputs": [
        {
          "output_type": "display_data",
          "data": {
            "text/html": [
              "<html>\n",
              "<head><meta charset=\"utf-8\" /></head>\n",
              "<body>\n",
              "    <div>\n",
              "            <script src=\"https://cdnjs.cloudflare.com/ajax/libs/mathjax/2.7.5/MathJax.js?config=TeX-AMS-MML_SVG\"></script><script type=\"text/javascript\">if (window.MathJax) {MathJax.Hub.Config({SVG: {font: \"STIX-Web\"}});}</script>\n",
              "                <script type=\"text/javascript\">window.PlotlyConfig = {MathJaxConfig: 'local'};</script>\n",
              "        <script src=\"https://cdn.plot.ly/plotly-latest.min.js\"></script>    \n",
              "            <div id=\"6d88b534-8c78-4f1a-b4a5-fc64c62ba695\" class=\"plotly-graph-div\" style=\"height:525px; width:100%;\"></div>\n",
              "            <script type=\"text/javascript\">\n",
              "                \n",
              "                    window.PLOTLYENV=window.PLOTLYENV || {};\n",
              "                    \n",
              "                if (document.getElementById(\"6d88b534-8c78-4f1a-b4a5-fc64c62ba695\")) {\n",
              "                    Plotly.newPlot(\n",
              "                        '6d88b534-8c78-4f1a-b4a5-fc64c62ba695',\n",
              "                        [{\"labels\": [\"Nondemented\", \"Demented\"], \"marker\": {\"colors\": [\"aquamarine\", \"teal\"], \"line\": {\"color\": \"black\", \"width\": 2.9}}, \"opacity\": 0.7, \"textfont\": {\"size\": 15}, \"type\": \"pie\", \"values\": [190, 181]}],\n",
              "                        {\"legend\": {\"x\": 0.7, \"y\": 1.0}, \"template\": {\"data\": {\"bar\": [{\"error_x\": {\"color\": \"#2a3f5f\"}, \"error_y\": {\"color\": \"#2a3f5f\"}, \"marker\": {\"line\": {\"color\": \"#E5ECF6\", \"width\": 0.5}}, \"type\": \"bar\"}], \"barpolar\": [{\"marker\": {\"line\": {\"color\": \"#E5ECF6\", \"width\": 0.5}}, \"type\": \"barpolar\"}], \"carpet\": [{\"aaxis\": {\"endlinecolor\": \"#2a3f5f\", \"gridcolor\": \"white\", \"linecolor\": \"white\", \"minorgridcolor\": \"white\", \"startlinecolor\": \"#2a3f5f\"}, \"baxis\": {\"endlinecolor\": \"#2a3f5f\", \"gridcolor\": \"white\", \"linecolor\": \"white\", \"minorgridcolor\": \"white\", \"startlinecolor\": \"#2a3f5f\"}, \"type\": \"carpet\"}], \"choropleth\": [{\"colorbar\": {\"outlinewidth\": 0, \"ticks\": \"\"}, \"type\": \"choropleth\"}], \"contour\": [{\"colorbar\": {\"outlinewidth\": 0, \"ticks\": \"\"}, \"colorscale\": [[0.0, \"#0d0887\"], [0.1111111111111111, \"#46039f\"], [0.2222222222222222, \"#7201a8\"], [0.3333333333333333, \"#9c179e\"], [0.4444444444444444, \"#bd3786\"], [0.5555555555555556, \"#d8576b\"], [0.6666666666666666, \"#ed7953\"], [0.7777777777777778, \"#fb9f3a\"], [0.8888888888888888, \"#fdca26\"], [1.0, \"#f0f921\"]], \"type\": \"contour\"}], \"contourcarpet\": [{\"colorbar\": {\"outlinewidth\": 0, \"ticks\": \"\"}, \"type\": \"contourcarpet\"}], \"heatmap\": [{\"colorbar\": {\"outlinewidth\": 0, \"ticks\": \"\"}, \"colorscale\": [[0.0, \"#0d0887\"], [0.1111111111111111, \"#46039f\"], [0.2222222222222222, \"#7201a8\"], [0.3333333333333333, \"#9c179e\"], [0.4444444444444444, \"#bd3786\"], [0.5555555555555556, \"#d8576b\"], [0.6666666666666666, \"#ed7953\"], [0.7777777777777778, \"#fb9f3a\"], [0.8888888888888888, \"#fdca26\"], [1.0, \"#f0f921\"]], \"type\": \"heatmap\"}], \"heatmapgl\": [{\"colorbar\": {\"outlinewidth\": 0, \"ticks\": \"\"}, \"colorscale\": [[0.0, \"#0d0887\"], [0.1111111111111111, \"#46039f\"], [0.2222222222222222, \"#7201a8\"], [0.3333333333333333, \"#9c179e\"], [0.4444444444444444, \"#bd3786\"], [0.5555555555555556, \"#d8576b\"], [0.6666666666666666, \"#ed7953\"], [0.7777777777777778, \"#fb9f3a\"], [0.8888888888888888, \"#fdca26\"], [1.0, \"#f0f921\"]], \"type\": \"heatmapgl\"}], \"histogram\": [{\"marker\": {\"colorbar\": {\"outlinewidth\": 0, \"ticks\": \"\"}}, \"type\": \"histogram\"}], \"histogram2d\": [{\"colorbar\": {\"outlinewidth\": 0, \"ticks\": \"\"}, \"colorscale\": [[0.0, \"#0d0887\"], [0.1111111111111111, \"#46039f\"], [0.2222222222222222, \"#7201a8\"], [0.3333333333333333, \"#9c179e\"], [0.4444444444444444, \"#bd3786\"], [0.5555555555555556, \"#d8576b\"], [0.6666666666666666, \"#ed7953\"], [0.7777777777777778, \"#fb9f3a\"], [0.8888888888888888, \"#fdca26\"], [1.0, \"#f0f921\"]], \"type\": \"histogram2d\"}], \"histogram2dcontour\": [{\"colorbar\": {\"outlinewidth\": 0, \"ticks\": \"\"}, \"colorscale\": [[0.0, \"#0d0887\"], [0.1111111111111111, \"#46039f\"], [0.2222222222222222, \"#7201a8\"], [0.3333333333333333, \"#9c179e\"], [0.4444444444444444, \"#bd3786\"], [0.5555555555555556, \"#d8576b\"], [0.6666666666666666, \"#ed7953\"], [0.7777777777777778, \"#fb9f3a\"], [0.8888888888888888, \"#fdca26\"], [1.0, \"#f0f921\"]], \"type\": \"histogram2dcontour\"}], \"mesh3d\": [{\"colorbar\": {\"outlinewidth\": 0, \"ticks\": \"\"}, \"type\": \"mesh3d\"}], \"parcoords\": [{\"line\": {\"colorbar\": {\"outlinewidth\": 0, \"ticks\": \"\"}}, \"type\": \"parcoords\"}], \"pie\": [{\"automargin\": true, \"type\": \"pie\"}], \"scatter\": [{\"marker\": {\"colorbar\": {\"outlinewidth\": 0, \"ticks\": \"\"}}, \"type\": \"scatter\"}], \"scatter3d\": [{\"line\": {\"colorbar\": {\"outlinewidth\": 0, \"ticks\": \"\"}}, \"marker\": {\"colorbar\": {\"outlinewidth\": 0, \"ticks\": \"\"}}, \"type\": \"scatter3d\"}], \"scattercarpet\": [{\"marker\": {\"colorbar\": {\"outlinewidth\": 0, \"ticks\": \"\"}}, \"type\": \"scattercarpet\"}], \"scattergeo\": [{\"marker\": {\"colorbar\": {\"outlinewidth\": 0, \"ticks\": \"\"}}, \"type\": \"scattergeo\"}], \"scattergl\": [{\"marker\": {\"colorbar\": {\"outlinewidth\": 0, \"ticks\": \"\"}}, \"type\": \"scattergl\"}], \"scattermapbox\": [{\"marker\": {\"colorbar\": {\"outlinewidth\": 0, \"ticks\": \"\"}}, \"type\": \"scattermapbox\"}], \"scatterpolar\": [{\"marker\": {\"colorbar\": {\"outlinewidth\": 0, \"ticks\": \"\"}}, \"type\": \"scatterpolar\"}], \"scatterpolargl\": [{\"marker\": {\"colorbar\": {\"outlinewidth\": 0, \"ticks\": \"\"}}, \"type\": \"scatterpolargl\"}], \"scatterternary\": [{\"marker\": {\"colorbar\": {\"outlinewidth\": 0, \"ticks\": \"\"}}, \"type\": \"scatterternary\"}], \"surface\": [{\"colorbar\": {\"outlinewidth\": 0, \"ticks\": \"\"}, \"colorscale\": [[0.0, \"#0d0887\"], [0.1111111111111111, \"#46039f\"], [0.2222222222222222, \"#7201a8\"], [0.3333333333333333, \"#9c179e\"], [0.4444444444444444, \"#bd3786\"], [0.5555555555555556, \"#d8576b\"], [0.6666666666666666, \"#ed7953\"], [0.7777777777777778, \"#fb9f3a\"], [0.8888888888888888, \"#fdca26\"], [1.0, \"#f0f921\"]], \"type\": \"surface\"}], \"table\": [{\"cells\": {\"fill\": {\"color\": \"#EBF0F8\"}, \"line\": {\"color\": \"white\"}}, \"header\": {\"fill\": {\"color\": \"#C8D4E3\"}, \"line\": {\"color\": \"white\"}}, \"type\": \"table\"}]}, \"layout\": {\"annotationdefaults\": {\"arrowcolor\": \"#2a3f5f\", \"arrowhead\": 0, \"arrowwidth\": 1}, \"coloraxis\": {\"colorbar\": {\"outlinewidth\": 0, \"ticks\": \"\"}}, \"colorscale\": {\"diverging\": [[0, \"#8e0152\"], [0.1, \"#c51b7d\"], [0.2, \"#de77ae\"], [0.3, \"#f1b6da\"], [0.4, \"#fde0ef\"], [0.5, \"#f7f7f7\"], [0.6, \"#e6f5d0\"], [0.7, \"#b8e186\"], [0.8, \"#7fbc41\"], [0.9, \"#4d9221\"], [1, \"#276419\"]], \"sequential\": [[0.0, \"#0d0887\"], [0.1111111111111111, \"#46039f\"], [0.2222222222222222, \"#7201a8\"], [0.3333333333333333, \"#9c179e\"], [0.4444444444444444, \"#bd3786\"], [0.5555555555555556, \"#d8576b\"], [0.6666666666666666, \"#ed7953\"], [0.7777777777777778, \"#fb9f3a\"], [0.8888888888888888, \"#fdca26\"], [1.0, \"#f0f921\"]], \"sequentialminus\": [[0.0, \"#0d0887\"], [0.1111111111111111, \"#46039f\"], [0.2222222222222222, \"#7201a8\"], [0.3333333333333333, \"#9c179e\"], [0.4444444444444444, \"#bd3786\"], [0.5555555555555556, \"#d8576b\"], [0.6666666666666666, \"#ed7953\"], [0.7777777777777778, \"#fb9f3a\"], [0.8888888888888888, \"#fdca26\"], [1.0, \"#f0f921\"]]}, \"colorway\": [\"#636efa\", \"#EF553B\", \"#00cc96\", \"#ab63fa\", \"#FFA15A\", \"#19d3f3\", \"#FF6692\", \"#B6E880\", \"#FF97FF\", \"#FECB52\"], \"font\": {\"color\": \"#2a3f5f\"}, \"geo\": {\"bgcolor\": \"white\", \"lakecolor\": \"white\", \"landcolor\": \"#E5ECF6\", \"showlakes\": true, \"showland\": true, \"subunitcolor\": \"white\"}, \"hoverlabel\": {\"align\": \"left\"}, \"hovermode\": \"closest\", \"mapbox\": {\"style\": \"light\"}, \"paper_bgcolor\": \"white\", \"plot_bgcolor\": \"#E5ECF6\", \"polar\": {\"angularaxis\": {\"gridcolor\": \"white\", \"linecolor\": \"white\", \"ticks\": \"\"}, \"bgcolor\": \"#E5ECF6\", \"radialaxis\": {\"gridcolor\": \"white\", \"linecolor\": \"white\", \"ticks\": \"\"}}, \"scene\": {\"xaxis\": {\"backgroundcolor\": \"#E5ECF6\", \"gridcolor\": \"white\", \"gridwidth\": 2, \"linecolor\": \"white\", \"showbackground\": true, \"ticks\": \"\", \"zerolinecolor\": \"white\"}, \"yaxis\": {\"backgroundcolor\": \"#E5ECF6\", \"gridcolor\": \"white\", \"gridwidth\": 2, \"linecolor\": \"white\", \"showbackground\": true, \"ticks\": \"\", \"zerolinecolor\": \"white\"}, \"zaxis\": {\"backgroundcolor\": \"#E5ECF6\", \"gridcolor\": \"white\", \"gridwidth\": 2, \"linecolor\": \"white\", \"showbackground\": true, \"ticks\": \"\", \"zerolinecolor\": \"white\"}}, \"shapedefaults\": {\"line\": {\"color\": \"#2a3f5f\"}}, \"ternary\": {\"aaxis\": {\"gridcolor\": \"white\", \"linecolor\": \"white\", \"ticks\": \"\"}, \"baxis\": {\"gridcolor\": \"white\", \"linecolor\": \"white\", \"ticks\": \"\"}, \"bgcolor\": \"#E5ECF6\", \"caxis\": {\"gridcolor\": \"white\", \"linecolor\": \"white\", \"ticks\": \"\"}}, \"title\": {\"x\": 0.05}, \"xaxis\": {\"automargin\": true, \"gridcolor\": \"white\", \"linecolor\": \"white\", \"ticks\": \"\", \"title\": {\"standoff\": 15}, \"zerolinecolor\": \"white\", \"zerolinewidth\": 2}, \"yaxis\": {\"automargin\": true, \"gridcolor\": \"white\", \"linecolor\": \"white\", \"ticks\": \"\", \"title\": {\"standoff\": 15}, \"zerolinecolor\": \"white\", \"zerolinewidth\": 2}}}, \"title\": {\"text\": \"Balance de clases\"}},\n",
              "                        {\"responsive\": true}\n",
              "                    ).then(function(){\n",
              "                            \n",
              "var gd = document.getElementById('6d88b534-8c78-4f1a-b4a5-fc64c62ba695');\n",
              "var x = new MutationObserver(function (mutations, observer) {{\n",
              "        var display = window.getComputedStyle(gd).display;\n",
              "        if (!display || display === 'none') {{\n",
              "            console.log([gd, 'removed!']);\n",
              "            Plotly.purge(gd);\n",
              "            observer.disconnect();\n",
              "        }}\n",
              "}});\n",
              "\n",
              "// Listen for the removal of the full notebook cells\n",
              "var notebookContainer = gd.closest('#notebook-container');\n",
              "if (notebookContainer) {{\n",
              "    x.observe(notebookContainer, {childList: true});\n",
              "}}\n",
              "\n",
              "// Listen for the clearing of the current output cell\n",
              "var outputEl = gd.closest('.output');\n",
              "if (outputEl) {{\n",
              "    x.observe(outputEl, {childList: true});\n",
              "}}\n",
              "\n",
              "                        })\n",
              "                };\n",
              "                \n",
              "            </script>\n",
              "        </div>\n",
              "</body>\n",
              "</html>"
            ]
          },
          "metadata": {}
        }
      ]
    },
    {
      "cell_type": "markdown",
      "metadata": {
        "id": "NuI3_r0NuLGY"
      },
      "source": [
        "Se había considerado realizar un proceso de data augmentation utilizando librerías como SMOTE, sin embargo, debido a lo delicado que son estos datos y a que la diferencia en balance es muy pequeña (un 2.4%), se decidió trabajar con los valores originales para mantener el set de datos lo más cercano a la realidad que nos fuese posible. "
      ]
    },
    {
      "cell_type": "markdown",
      "metadata": {
        "id": "SbJq-mIez3i7"
      },
      "source": [
        "# **Limitaciones y cesgos**"
      ]
    },
    {
      "cell_type": "markdown",
      "metadata": {
        "id": "EIpRkZV80FI-"
      },
      "source": [
        "Una de las limitaciones principales del dataset utilizado es que solo lista información de pacientes de 60 a 96 años, lo cual es una desventaja por que estamos excluyendo pacientes con edades de 18 a 59. A pesar de que de solo el 5% al 6% de pacientes de Alzheimers muestran sintomas antes de los 65 años, es información que pudiera enriquecer nuestra investigación para que pueda ser utilizada para un amplio rango de edad (Brosch, 2019). "
      ]
    },
    {
      "cell_type": "markdown",
      "metadata": {
        "id": "CU2AEzvCwFdr"
      },
      "source": [
        "# **Estado del arte respecto a modelos de inteligencia artificial utilizados para el diagnóstico de Alzheimer**\n",
        "\n",
        "De acuerdo al paper [Machine learning techniques for the diagnosis of Alzheimer’s disease: A review](https://www.researchgate.net/profile/M-Tanveer/publication/334548759_Machine_Learning_Techniques_for_the_Diagnosis_of_Alzheimer%27s_Disease_A_Review/links/5e9f2dcd299bf13079b1dc52/Machine-Learning-Techniques-for-the-Diagnosis-of-Alzheimers-Disease-A-Review.pdf)\n",
        ", actualmente, los modelos más utilizados para el diagnóstico de la enfermedad de Alzheimer constan de máquinas de vectores de soporte (SVM), redes neuronales y aprendizaje profundo. \n",
        "\n",
        "Se menciona también que hay una tendencia a optar por imágenes ponderadas T1, como las utilizadas en el dataset de OASIS, ya que en estas la delineación de la superficie ventricular del cerebro debido a la atrofia se distingue de forma clara. \n",
        "\n",
        "Varios investigadores han utilizado un kernel lineal en sus SVM ya que este no requiere de ajuste. También se utiliza un kernel polinomial para clasificación multivariable con respecto a CN (Normalidad Cognitiva), MCI (Discapacidad Mental Moderada), y AD (Enfermedad de Alzheimer).\n",
        "\n",
        "De acuerdo al artículo [Machine learning for modeling the progression of Alzheimer disease dementia using clinical data: a systematic literature review](https://academic.oup.com/jamiaopen/article/4/3/ooab052/6334269), las siguientes categorías de modelos son utilizadas: \n",
        "\n",
        "*   Regresión Logistica\n",
        "*   SVM \n",
        "*   Árboles de decisión\n",
        "*   Redes Bayesianas\n",
        "*   Redes neuronales\n",
        "*   Procesamiento de lenguaje natural\n",
        "\n",
        "\n",
        "Para experimentar con estas, optamos por emplear regresión logística y maquinas de vectores de soporte para comparar sus métricas de desempeño con LightGBM. "
      ]
    },
    {
      "cell_type": "markdown",
      "metadata": {
        "id": "O97VX5FULASG"
      },
      "source": [
        "![Tabla.PNG](data:image/png;base64,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)"
      ]
    },
    {
      "cell_type": "markdown",
      "metadata": {
        "id": "6thBSmc9eypV"
      },
      "source": [
        "# Máquina de Vectores de Soporte"
      ]
    },
    {
      "cell_type": "code",
      "metadata": {
        "id": "e9Kflaz6etnA"
      },
      "source": [
        "import sklearn\n",
        "from sklearn import datasets\n",
        "import numpy as np"
      ],
      "execution_count": null,
      "outputs": []
    },
    {
      "cell_type": "code",
      "metadata": {
        "id": "tg1CMTQn0D2t"
      },
      "source": [
        "y_svm = y_conv.copy()\n",
        "X_svm = Xf.copy()"
      ],
      "execution_count": null,
      "outputs": []
    },
    {
      "cell_type": "code",
      "metadata": {
        "colab": {
          "base_uri": "https://localhost:8080/"
        },
        "id": "_hgykSnC-MoK",
        "outputId": "e43f4e84-278a-4542-915e-dd97efcf9801"
      },
      "source": [
        "print(X_svm)"
      ],
      "execution_count": null,
      "outputs": [
        {
          "output_type": "stream",
          "name": "stdout",
          "text": [
            "    Visit  MR Delay  M/F       Age  ...   CDR      eTIV      nWBV       ASF\n",
            "0    0.00  0.000000  0.0  0.710526  ...  0.00  0.981069  0.269430  0.009845\n",
            "1    0.25  0.173172  0.0  0.736842  ...  0.00  1.000000  0.191710  0.000000\n",
            "2    0.00  0.000000  0.0  0.394737  ...  0.25  0.636971  0.476684  0.239100\n",
            "3    0.25  0.212202  0.0  0.421053  ...  0.25  0.703786  0.357513  0.188467\n",
            "4    0.50  0.718075  0.0  0.526316  ...  0.25  0.659243  0.295337  0.222222\n",
            "..    ...       ...  ...       ...  ...   ...       ...       ...       ...\n",
            "366  0.25  0.319060  0.0  0.578947  ...  0.25  0.653675  0.259067  0.226442\n",
            "367  0.50  0.870405  0.0  0.684211  ...  0.25  0.648107  0.160622  0.230661\n",
            "368  0.00  0.000000  1.0  0.026316  ...  0.00  0.237194  0.813472  0.639944\n",
            "369  0.25  0.289125  1.0  0.078947  ...  0.00  0.246102  0.787565  0.628692\n",
            "370  0.50  0.609322  1.0  0.131579  ...  0.00  0.252784  0.813472  0.620253\n",
            "\n",
            "[371 rows x 11 columns]\n"
          ]
        }
      ]
    },
    {
      "cell_type": "code",
      "metadata": {
        "colab": {
          "base_uri": "https://localhost:8080/"
        },
        "id": "eKXRAQDN9VlN",
        "outputId": "13ee8c69-ece9-44c4-cff3-b6ab8a9e2cbc"
      },
      "source": [
        "y_svm_new1 = y_svm.replace('Demented', 0)\n",
        "y_svm_new2 = y_svm_new1.replace('Nondemented', 1)\n",
        "print(y_svm_new2)"
      ],
      "execution_count": null,
      "outputs": [
        {
          "output_type": "stream",
          "name": "stdout",
          "text": [
            "0      1\n",
            "1      1\n",
            "2      0\n",
            "3      0\n",
            "4      0\n",
            "      ..\n",
            "368    0\n",
            "369    0\n",
            "370    1\n",
            "371    1\n",
            "372    1\n",
            "Name: Group, Length: 371, dtype: int64\n"
          ]
        }
      ]
    },
    {
      "cell_type": "code",
      "metadata": {
        "id": "RKzLC0hi2uSj"
      },
      "source": [
        "from sklearn.model_selection import train_test_split\n",
        "\n",
        "X_svm_train, X_svm_test, y_svm_train, y_svm_test = train_test_split(\n",
        "                                                    X_svm.values,\n",
        "                                                    y_svm.values.reshape(-1,1),\n",
        "                                                    test_size=0.3,\n",
        "                                                    random_state=109\n",
        ")"
      ],
      "execution_count": null,
      "outputs": []
    },
    {
      "cell_type": "code",
      "metadata": {
        "id": "pAafn4j63wWU"
      },
      "source": [
        "from sklearn import svm\n",
        "\n",
        "clf = svm.SVC(kernel='linear')\n",
        "\n",
        "clf.fit(X_svm_train, y_svm_train.ravel())\n",
        "\n",
        "y_svm_pred = clf.predict(X_svm_test)"
      ],
      "execution_count": null,
      "outputs": []
    },
    {
      "cell_type": "code",
      "metadata": {
        "id": "DHX_QRfR4_nk"
      },
      "source": [
        "rounded_predictions = np.argmax(y_svm_pred, axis=-1)"
      ],
      "execution_count": null,
      "outputs": []
    },
    {
      "cell_type": "code",
      "metadata": {
        "colab": {
          "base_uri": "https://localhost:8080/"
        },
        "id": "g_1cWQGi5Gff",
        "outputId": "6b11e721-50fa-47ab-a3bd-26aaa18a9fee"
      },
      "source": [
        "from sklearn import metrics\n",
        "\n",
        "print(\"Accuracy:\", metrics.accuracy_score(y_svm_test,y_svm_pred))"
      ],
      "execution_count": null,
      "outputs": [
        {
          "output_type": "stream",
          "name": "stdout",
          "text": [
            "Accuracy: 0.9642857142857143\n"
          ]
        }
      ]
    },
    {
      "cell_type": "code",
      "metadata": {
        "colab": {
          "base_uri": "https://localhost:8080/"
        },
        "id": "OCA-jiRF5c4p",
        "outputId": "702c7af1-276b-43f7-e6b5-8dd95079d640"
      },
      "source": [
        "print(\"Precision:\", metrics.precision_score(y_svm_test, y_svm_pred, pos_label='Demented'))\n",
        "\n",
        "print(\"Recall\", metrics.recall_score(y_svm_test, y_svm_pred,  pos_label='Demented')) #recall_average = recall_score(Y_test, y_predict, average=\"binary\", pos_label=\"neg\")"
      ],
      "execution_count": null,
      "outputs": [
        {
          "output_type": "stream",
          "name": "stdout",
          "text": [
            "Precision: 1.0\n",
            "Recall 0.92\n"
          ]
        }
      ]
    },
    {
      "cell_type": "code",
      "metadata": {
        "id": "gHUUrd06AgfT"
      },
      "source": [
        "%matplotlib inline\n",
        "from sklearn.metrics import confusion_matrix\n",
        "import itertools\n",
        "import matplotlib.pyplot as plt\n",
        "from sklearn.metrics import ConfusionMatrixDisplay"
      ],
      "execution_count": null,
      "outputs": []
    },
    {
      "cell_type": "code",
      "metadata": {
        "colab": {
          "base_uri": "https://localhost:8080/",
          "height": 296
        },
        "id": "SRXnGU1VAw8n",
        "outputId": "65c4faa0-a638-4555-b54a-12b45e68c0a2"
      },
      "source": [
        "class_names = np.array(['Demented', 'Nondemented'])\n",
        "\n",
        "cm = confusion_matrix(y_svm_test, y_svm_pred, labels=class_names)\n",
        "disp = ConfusionMatrixDisplay(confusion_matrix=cm, display_labels=class_names)\n",
        "disp.plot()"
      ],
      "execution_count": null,
      "outputs": [
        {
          "output_type": "execute_result",
          "data": {
            "text/plain": [
              "<sklearn.metrics._plot.confusion_matrix.ConfusionMatrixDisplay at 0x7fb720aeb510>"
            ]
          },
          "metadata": {},
          "execution_count": 32
        },
        {
          "output_type": "display_data",
          "data": {
            "image/png": "[encoded data removed]",
            "text/plain": [
              "<Figure size 432x288 with 2 Axes>"
            ]
          },
          "metadata": {
            "needs_background": "light"
          }
        }
      ]
    },
    {
      "cell_type": "code",
      "metadata": {
        "colab": {
          "base_uri": "https://localhost:8080/"
        },
        "id": "Iw70toRlp66I",
        "outputId": "724ace73-6d0b-42f6-f35a-68d861d78804"
      },
      "source": [
        "print(metrics.classification_report(y_svm_test,clf.predict(X_svm_test)))"
      ],
      "execution_count": null,
      "outputs": [
        {
          "output_type": "stream",
          "name": "stdout",
          "text": [
            "              precision    recall  f1-score   support\n",
            "\n",
            "    Demented       1.00      0.92      0.96        50\n",
            " Nondemented       0.94      1.00      0.97        62\n",
            "\n",
            "    accuracy                           0.96       112\n",
            "   macro avg       0.97      0.96      0.96       112\n",
            "weighted avg       0.97      0.96      0.96       112\n",
            "\n"
          ]
        }
      ]
    },
    {
      "cell_type": "markdown",
      "metadata": {
        "id": "6xPopkujr-PM"
      },
      "source": [
        "#Regresión Logistica"
      ]
    },
    {
      "cell_type": "code",
      "metadata": {
        "id": "Ewqnv79Wr9uk",
        "colab": {
          "base_uri": "https://localhost:8080/"
        },
        "outputId": "d3716345-ce98-4e7e-abb2-c9cf2c534863"
      },
      "source": [
        "from sklearn.linear_model import LogisticRegression\n",
        "from sklearn.model_selection import train_test_split\n",
        "from sklearn.metrics import accuracy_score\n",
        "import statsmodels.api as sm\n",
        "import statsmodels.formula.api as smf\n",
        "from statsmodels.stats.weightstats import ttest_ind\n",
        "import warnings\n",
        "warnings.filterwarnings('ignore')"
      ],
      "execution_count": null,
      "outputs": [
        {
          "output_type": "stream",
          "name": "stderr",
          "text": [
            "/usr/local/lib/python3.7/dist-packages/statsmodels/tools/_testing.py:19: FutureWarning:\n",
            "\n",
            "pandas.util.testing is deprecated. Use the functions in the public API at pandas.testing instead.\n",
            "\n"
          ]
        }
      ]
    },
    {
      "cell_type": "code",
      "metadata": {
        "id": "kBg5U0JivYVZ"
      },
      "source": [
        "#X"
      ],
      "execution_count": null,
      "outputs": []
    },
    {
      "cell_type": "code",
      "metadata": {
        "id": "PxE1eepdwRy0"
      },
      "source": [
        "#y_conv.values"
      ],
      "execution_count": null,
      "outputs": []
    },
    {
      "cell_type": "code",
      "metadata": {
        "id": "N0iQKJ20vUMc"
      },
      "source": [
        "#Dividiendo el dataset en 75% train y 35% test\n",
        "X_train, X_test, y_train, y_test = train_test_split(\n",
        "                                        X.values,\n",
        "                                        y_conv.values.reshape(-1,1),\n",
        "                                        train_size   = 0.75,\n",
        "                                        shuffle      = True\n",
        "                                    )"
      ],
      "execution_count": null,
      "outputs": []
    },
    {
      "cell_type": "code",
      "metadata": {
        "colab": {
          "base_uri": "https://localhost:8080/"
        },
        "id": "50LIYqoCx54F",
        "outputId": "5b277b4e-c4cc-4a01-af29-ce5aa807a003"
      },
      "source": [
        "#creando el modelo de regresión logística\n",
        "model = LogisticRegression(penalty='none')\n",
        "model.fit(X = X_train, y = y_train)"
      ],
      "execution_count": null,
      "outputs": [
        {
          "output_type": "execute_result",
          "data": {
            "text/plain": [
              "LogisticRegression(C=1.0, class_weight=None, dual=False, fit_intercept=True,\n",
              "                   intercept_scaling=1, l1_ratio=None, max_iter=100,\n",
              "                   multi_class='auto', n_jobs=None, penalty='none',\n",
              "                   random_state=None, solver='lbfgs', tol=0.0001, verbose=0,\n",
              "                   warm_start=False)"
            ]
          },
          "metadata": {},
          "execution_count": 35
        }
      ]
    },
    {
      "cell_type": "code",
      "metadata": {
        "colab": {
          "base_uri": "https://localhost:8080/",
          "height": 417
        },
        "id": "hB3OYcmO0VtH",
        "outputId": "3461bcac-4046-4651-c9a4-efcbf692fe9b"
      },
      "source": [
        "#predicciones del set de datos de test\n",
        "predicciones = model.predict_proba(X = X_test)\n",
        "predicciones = pd.DataFrame(predicciones, columns = model.classes_)\n",
        "predicciones.head(100)"
      ],
      "execution_count": null,
      "outputs": [
        {
          "output_type": "execute_result",
          "data": {
            "text/html": [
              "<div>\n",
              "<style scoped>\n",
              "    .dataframe tbody tr th:only-of-type {\n",
              "        vertical-align: middle;\n",
              "    }\n",
              "\n",
              "    .dataframe tbody tr th {\n",
              "        vertical-align: top;\n",
              "    }\n",
              "\n",
              "    .dataframe thead th {\n",
              "        text-align: right;\n",
              "    }\n",
              "</style>\n",
              "<table border=\"1\" class=\"dataframe\">\n",
              "  <thead>\n",
              "    <tr style=\"text-align: right;\">\n",
              "      <th></th>\n",
              "      <th>Demented</th>\n",
              "      <th>Nondemented</th>\n",
              "    </tr>\n",
              "  </thead>\n",
              "  <tbody>\n",
              "    <tr>\n",
              "      <th>0</th>\n",
              "      <td>0.077320</td>\n",
              "      <td>0.922680</td>\n",
              "    </tr>\n",
              "    <tr>\n",
              "      <th>1</th>\n",
              "      <td>0.995848</td>\n",
              "      <td>0.004152</td>\n",
              "    </tr>\n",
              "    <tr>\n",
              "      <th>2</th>\n",
              "      <td>0.996659</td>\n",
              "      <td>0.003341</td>\n",
              "    </tr>\n",
              "    <tr>\n",
              "      <th>3</th>\n",
              "      <td>0.172336</td>\n",
              "      <td>0.827664</td>\n",
              "    </tr>\n",
              "    <tr>\n",
              "      <th>4</th>\n",
              "      <td>0.562004</td>\n",
              "      <td>0.437996</td>\n",
              "    </tr>\n",
              "    <tr>\n",
              "      <th>...</th>\n",
              "      <td>...</td>\n",
              "      <td>...</td>\n",
              "    </tr>\n",
              "    <tr>\n",
              "      <th>88</th>\n",
              "      <td>0.106201</td>\n",
              "      <td>0.893799</td>\n",
              "    </tr>\n",
              "    <tr>\n",
              "      <th>89</th>\n",
              "      <td>0.044085</td>\n",
              "      <td>0.955915</td>\n",
              "    </tr>\n",
              "    <tr>\n",
              "      <th>90</th>\n",
              "      <td>0.997489</td>\n",
              "      <td>0.002511</td>\n",
              "    </tr>\n",
              "    <tr>\n",
              "      <th>91</th>\n",
              "      <td>0.999988</td>\n",
              "      <td>0.000012</td>\n",
              "    </tr>\n",
              "    <tr>\n",
              "      <th>92</th>\n",
              "      <td>0.044783</td>\n",
              "      <td>0.955217</td>\n",
              "    </tr>\n",
              "  </tbody>\n",
              "</table>\n",
              "<p>93 rows × 2 columns</p>\n",
              "</div>"
            ],
            "text/plain": [
              "    Demented  Nondemented\n",
              "0   0.077320     0.922680\n",
              "1   0.995848     0.004152\n",
              "2   0.996659     0.003341\n",
              "3   0.172336     0.827664\n",
              "4   0.562004     0.437996\n",
              "..       ...          ...\n",
              "88  0.106201     0.893799\n",
              "89  0.044085     0.955915\n",
              "90  0.997489     0.002511\n",
              "91  0.999988     0.000012\n",
              "92  0.044783     0.955217\n",
              "\n",
              "[93 rows x 2 columns]"
            ]
          },
          "metadata": {},
          "execution_count": 36
        }
      ]
    },
    {
      "cell_type": "code",
      "metadata": {
        "id": "CKoP2Vvp19bT"
      },
      "source": [
        "prediccion_X_test=model.predict(X=X_test)\n",
        "test=pd.DataFrame(prediccion_X_test,columns=[\"Prediction\"])\n",
        "test.insert(1,\"Real Value\",y_test,True)"
      ],
      "execution_count": null,
      "outputs": []
    },
    {
      "cell_type": "code",
      "metadata": {
        "colab": {
          "base_uri": "https://localhost:8080/",
          "height": 295
        },
        "id": "rziAcEmP6Lnp",
        "outputId": "31cd9c9b-e1d9-496d-8e32-e33f78fac52c"
      },
      "source": [
        "plt.xlabel(\"Sample\")\n",
        "plt.title(\"Prediction vs Real Values TEST\")\n",
        "x=np.arange(93)\n",
        "plt.plot(x,test['Prediction'],'ro',label=\"Prediction\")\n",
        "plt.plot(x,test['Real Value'],'bo',label=\"Real Value\")\n",
        "plt.legend(loc=\"best\",shadow=True,fontsize=\"larger\")\n",
        "plt.grid()"
      ],
      "execution_count": null,
      "outputs": [
        {
          "output_type": "display_data",
          "data": {
            "image/png": "[encoded data removed]",
            "text/plain": [
              "<Figure size 432x288 with 1 Axes>"
            ]
          },
          "metadata": {
            "needs_background": "light"
          }
        }
      ]
    },
    {
      "cell_type": "code",
      "metadata": {
        "id": "vaJDcKdSAIei"
      },
      "source": [
        "#predicciones del set de datos de TRAIN\n",
        "prediccion_X_train=model.predict(X=X_train)\n",
        "train=pd.DataFrame(prediccion_X_train,columns=[\"Prediction\"])\n",
        "train.insert(1,\"Real Value\",y_train,True)"
      ],
      "execution_count": null,
      "outputs": []
    },
    {
      "cell_type": "code",
      "metadata": {
        "colab": {
          "base_uri": "https://localhost:8080/",
          "height": 295
        },
        "id": "S1CQsTObAcgr",
        "outputId": "4683b079-f035-4989-b02a-0b86f820fbfe"
      },
      "source": [
        "plt.xlabel(\"Sample\")\n",
        "plt.title(\"Prediction vs Real Values TRAIN\")\n",
        "x=np.arange(len(train))\n",
        "plt.plot(x,train['Prediction'],'ro',label=\"Prediction\")\n",
        "plt.plot(x,train['Real Value'],'bo',label=\"Real Value\")\n",
        "plt.legend(loc=\"best\",shadow=True,fontsize=\"larger\")\n",
        "plt.grid()"
      ],
      "execution_count": null,
      "outputs": [
        {
          "output_type": "display_data",
          "data": {
            "image/png": "[encoded data removed]",
            "text/plain": [
              "<Figure size 432x288 with 1 Axes>"
            ]
          },
          "metadata": {
            "needs_background": "light"
          }
        }
      ]
    },
    {
      "cell_type": "code",
      "metadata": {
        "id": "2x9Zc_VbqWrx"
      },
      "source": [
        "print(metrics.classification_report(y_svm_test,clf.predict(X_svm_test)))"
      ],
      "execution_count": null,
      "outputs": []
    },
    {
      "cell_type": "markdown",
      "metadata": {
        "id": "-ZUnMTwJN2B3"
      },
      "source": [
        "# Light GBM\n"
      ]
    },
    {
      "cell_type": "code",
      "metadata": {
        "id": "RuMQyzGQBRqg",
        "colab": {
          "base_uri": "https://localhost:8080/"
        },
        "outputId": "02d48570-b2ab-4847-f83d-881669a43064"
      },
      "source": [
        "!pip install lightgbm"
      ],
      "execution_count": null,
      "outputs": [
        {
          "output_type": "stream",
          "name": "stdout",
          "text": [
            "Requirement already satisfied: lightgbm in /usr/local/lib/python3.7/dist-packages (2.2.3)\n",
            "Requirement already satisfied: scipy in /usr/local/lib/python3.7/dist-packages (from lightgbm) (1.4.1)\n",
            "Requirement already satisfied: numpy in /usr/local/lib/python3.7/dist-packages (from lightgbm) (1.19.5)\n",
            "Requirement already satisfied: scikit-learn in /usr/local/lib/python3.7/dist-packages (from lightgbm) (0.22.2.post1)\n",
            "Requirement already satisfied: joblib>=0.11 in /usr/local/lib/python3.7/dist-packages (from scikit-learn->lightgbm) (1.0.1)\n"
          ]
        }
      ]
    },
    {
      "cell_type": "code",
      "metadata": {
        "id": "YLQx0-gx3SMf"
      },
      "source": [
        "import numpy as np # linear algebra\n",
        "import pandas as pd #data processing\n",
        "\n",
        "from sklearn.model_selection import train_test_split\n",
        "import lightgbm\n",
        "from sklearn.metrics import roc_auc_score\n",
        "\n",
        "import matplotlib.pylab as plt\n"
      ],
      "execution_count": null,
      "outputs": []
    },
    {
      "cell_type": "code",
      "metadata": {
        "id": "lMa8LNsi6cTu"
      },
      "source": [
        "y_gbm = y_conv.copy()\n",
        "X_gbm = X.copy()"
      ],
      "execution_count": null,
      "outputs": []
    },
    {
      "cell_type": "code",
      "metadata": {
        "colab": {
          "base_uri": "https://localhost:8080/"
        },
        "id": "5Qem-0O7Z3-l",
        "outputId": "e117864f-c40a-41a5-a30e-ee3fe98306b6"
      },
      "source": [
        "y_gbm_new1 = y_gbm.replace('Demented', 0)\n",
        "y_gbm_new2 = y_gbm_new1.replace('Nondemented', 1)\n",
        "print(y_gbm_new2)"
      ],
      "execution_count": null,
      "outputs": [
        {
          "output_type": "stream",
          "name": "stdout",
          "text": [
            "0      1\n",
            "1      1\n",
            "2      0\n",
            "3      0\n",
            "4      0\n",
            "      ..\n",
            "368    0\n",
            "369    0\n",
            "370    1\n",
            "371    1\n",
            "372    1\n",
            "Name: Group, Length: 371, dtype: int64\n"
          ]
        }
      ]
    },
    {
      "cell_type": "code",
      "metadata": {
        "id": "YCa8n1-U3Y4D"
      },
      "source": [
        "X_gbm_train, X_gbm_test, y_gbm_train, y_gbm_test = train_test_split(\n",
        "                                                    X_gbm.values,\n",
        "                                                    y_gbm_new2.values,#.reshape(-1,1),\n",
        "                                                    test_size=0.2,\n",
        "                                                    random_state=110\n",
        ")"
      ],
      "execution_count": null,
      "outputs": []
    },
    {
      "cell_type": "code",
      "metadata": {
        "id": "pbLAFOHb3fm_"
      },
      "source": [
        "train_data = lightgbm.Dataset(X_gbm_train, label=y_gbm_train)\n",
        "test_data = lightgbm.Dataset(X_gbm_test, label=y_gbm_test)"
      ],
      "execution_count": null,
      "outputs": []
    },
    {
      "cell_type": "code",
      "metadata": {
        "id": "yOPhowKN8Bpm"
      },
      "source": [
        "parameters = {'objective': 'binary',\n",
        "              'metric': 'auc',\n",
        "              'is_unbalance': 'true',\n",
        "              'boosting': 'gbdt',\n",
        "              'num_leaves': 63,\n",
        "              'feature_fraction': 0.5,\n",
        "              'bagging_fraction': 0.5,\n",
        "              'bagging_freq': 20,\n",
        "              'learning_rate': 0.01,\n",
        "              'verbose': -1}"
      ],
      "execution_count": null,
      "outputs": []
    },
    {
      "cell_type": "code",
      "metadata": {
        "colab": {
          "base_uri": "https://localhost:8080/"
        },
        "id": "hFiAF_mVY1gK",
        "outputId": "b2fabd32-7732-40a4-863c-f647fac99b69"
      },
      "source": [
        "model_lgbm = lightgbm.train(parameters,\n",
        "                            train_data,\n",
        "                            valid_sets=test_data,\n",
        "                            num_boost_round=5000,\n",
        "                            early_stopping_rounds=50)"
      ],
      "execution_count": null,
      "outputs": [
        {
          "output_type": "stream",
          "name": "stdout",
          "text": [
            "[1]\tvalid_0's auc: 0.75\n",
            "Training until validation scores don't improve for 50 rounds.\n",
            "[2]\tvalid_0's auc: 0.970128\n",
            "[3]\tvalid_0's auc: 0.97155\n",
            "[4]\tvalid_0's auc: 0.965505\n",
            "[5]\tvalid_0's auc: 0.969772\n",
            "[6]\tvalid_0's auc: 0.963371\n",
            "[7]\tvalid_0's auc: 0.957681\n",
            "[8]\tvalid_0's auc: 0.964794\n",
            "[9]\tvalid_0's auc: 0.964794\n",
            "[10]\tvalid_0's auc: 0.96266\n",
            "[11]\tvalid_0's auc: 0.96266\n",
            "[12]\tvalid_0's auc: 0.96266\n",
            "[13]\tvalid_0's auc: 0.961949\n",
            "[14]\tvalid_0's auc: 0.963371\n",
            "[15]\tvalid_0's auc: 0.96266\n",
            "[16]\tvalid_0's auc: 0.961949\n",
            "[17]\tvalid_0's auc: 0.960526\n",
            "[18]\tvalid_0's auc: 0.959815\n",
            "[19]\tvalid_0's auc: 0.959815\n",
            "[20]\tvalid_0's auc: 0.959104\n",
            "[21]\tvalid_0's auc: 0.959104\n",
            "[22]\tvalid_0's auc: 0.959104\n",
            "[23]\tvalid_0's auc: 0.958393\n",
            "[24]\tvalid_0's auc: 0.95697\n",
            "[25]\tvalid_0's auc: 0.95697\n",
            "[26]\tvalid_0's auc: 0.95697\n",
            "[27]\tvalid_0's auc: 0.95697\n",
            "[28]\tvalid_0's auc: 0.95697\n",
            "[29]\tvalid_0's auc: 0.959104\n",
            "[30]\tvalid_0's auc: 0.959815\n",
            "[31]\tvalid_0's auc: 0.960526\n",
            "[32]\tvalid_0's auc: 0.960526\n",
            "[33]\tvalid_0's auc: 0.958393\n",
            "[34]\tvalid_0's auc: 0.957681\n",
            "[35]\tvalid_0's auc: 0.95697\n",
            "[36]\tvalid_0's auc: 0.95697\n",
            "[37]\tvalid_0's auc: 0.95697\n",
            "[38]\tvalid_0's auc: 0.957681\n",
            "[39]\tvalid_0's auc: 0.957681\n",
            "[40]\tvalid_0's auc: 0.956259\n",
            "[41]\tvalid_0's auc: 0.955548\n",
            "[42]\tvalid_0's auc: 0.954836\n",
            "[43]\tvalid_0's auc: 0.955548\n",
            "[44]\tvalid_0's auc: 0.955548\n",
            "[45]\tvalid_0's auc: 0.954836\n",
            "[46]\tvalid_0's auc: 0.95697\n",
            "[47]\tvalid_0's auc: 0.95697\n",
            "[48]\tvalid_0's auc: 0.956259\n",
            "[49]\tvalid_0's auc: 0.95697\n",
            "[50]\tvalid_0's auc: 0.956259\n",
            "[51]\tvalid_0's auc: 0.956615\n",
            "[52]\tvalid_0's auc: 0.956615\n",
            "[53]\tvalid_0's auc: 0.955903\n",
            "Early stopping, best iteration is:\n",
            "[3]\tvalid_0's auc: 0.97155\n"
          ]
        }
      ]
    },
    {
      "cell_type": "code",
      "metadata": {
        "colab": {
          "base_uri": "https://localhost:8080/"
        },
        "id": "1gzzLxK_az_V",
        "outputId": "0569fe89-87e4-455d-c9eb-ab0993bdc74e"
      },
      "source": [
        "y_train_pred = model_lgbm.predict(X_gbm_train)\n",
        "y_valid_pred = model_lgbm.predict(X_gbm_test)\n",
        "\n",
        "print(\"AUC Train: {:4f}\\nAUC Valid: {:.4f}\".format(roc_auc_score(y_gbm_train, y_train_pred),\n",
        "                                                   roc_auc_score(y_gbm_test, y_valid_pred)))"
      ],
      "execution_count": null,
      "outputs": [
        {
          "output_type": "stream",
          "name": "stdout",
          "text": [
            "AUC Train: 0.967745\n",
            "AUC Valid: 0.9716\n"
          ]
        }
      ]
    },
    {
      "cell_type": "code",
      "metadata": {
        "colab": {
          "base_uri": "https://localhost:8080/"
        },
        "id": "sHhUoX0Jg_vE",
        "outputId": "eaffd3a4-a86f-4278-be93-27e29b1f10be"
      },
      "source": [
        "from sklearn.metrics import average_precision_score\n",
        "#print(y_valid_pred)\n",
        "#print('-------------------------')\n",
        "#print(y_gbm_test)\n",
        "precScore = average_precision_score( y_gbm_test, y_valid_pred)\n",
        "print(\"Precisión del Modelo con LightGBM: {}\".format(precScore))"
      ],
      "execution_count": null,
      "outputs": [
        {
          "output_type": "stream",
          "name": "stdout",
          "text": [
            "Precisión del Modelo con LightGBM: 0.9647022490581365\n"
          ]
        }
      ]
    },
    {
      "cell_type": "markdown",
      "metadata": {
        "id": "K3zccbZ-jY23"
      },
      "source": [
        "# Light GBM (sci-kit learn)"
      ]
    },
    {
      "cell_type": "markdown",
      "metadata": {
        "id": "5YQcle5tkby1"
      },
      "source": [
        "Debido a que sci-kit learn ofrece distintas herramientas para visualizar nuestro modelo con detalle, optamos por implementar también Light GBM mediante esta biblioteca. "
      ]
    },
    {
      "cell_type": "code",
      "metadata": {
        "id": "Ick5gHB-kiCe"
      },
      "source": [
        "# train and test split\n",
        "xgb_train, xgb_test, ygb_train, ygb_test = train_test_split(\n",
        "    Xf,\n",
        "    y_gbm_new2,\n",
        "    test_size=0.33, \n",
        "    random_state=42\n",
        ")"
      ],
      "execution_count": null,
      "outputs": []
    },
    {
      "cell_type": "code",
      "metadata": {
        "id": "0etF16jnlbO8"
      },
      "source": [
        "xgb_train.columns = xgb_train.columns.get_level_values(0)"
      ],
      "execution_count": null,
      "outputs": []
    },
    {
      "cell_type": "code",
      "metadata": {
        "id": "gkAyeRBNlt1t"
      },
      "source": [
        "xgb_test.columns = xgb_test.columns.get_level_values(0)"
      ],
      "execution_count": null,
      "outputs": []
    },
    {
      "cell_type": "code",
      "metadata": {
        "colab": {
          "base_uri": "https://localhost:8080/"
        },
        "id": "52PzoFZLlifA",
        "outputId": "6775f74f-4692-41e9-efef-f78e5cab8bcb"
      },
      "source": [
        "# make predictions using lightgbm for classification\n",
        "from sklearn.datasets import make_classification\n",
        "from lightgbm import LGBMClassifier\n",
        "\n",
        "# define the model\n",
        "model = LGBMClassifier(learning_rate=0.01, max_depth=-5, random_state=42)\n",
        "# fit the model on the whole dataset\n",
        "model.fit(xgb_train, ygb_train, eval_set=[(xgb_test,ygb_test), (xgb_train,ygb_train)], eval_metric='logloss')"
      ],
      "execution_count": null,
      "outputs": [
        {
          "output_type": "stream",
          "name": "stdout",
          "text": [
            "[1]\ttraining's binary_logloss: 0.683048\ttraining's binary_logloss: 0.683048\tvalid_0's binary_logloss: 0.68911\tvalid_0's binary_logloss: 0.68911\n",
            "[2]\ttraining's binary_logloss: 0.674714\ttraining's binary_logloss: 0.674714\tvalid_0's binary_logloss: 0.681342\tvalid_0's binary_logloss: 0.681342\n",
            "[3]\ttraining's binary_logloss: 0.666545\ttraining's binary_logloss: 0.666545\tvalid_0's binary_logloss: 0.673733\tvalid_0's binary_logloss: 0.673733\n",
            "[4]\ttraining's binary_logloss: 0.658577\ttraining's binary_logloss: 0.658577\tvalid_0's binary_logloss: 0.666136\tvalid_0's binary_logloss: 0.666136\n",
            "[5]\ttraining's binary_logloss: 0.650722\ttraining's binary_logloss: 0.650722\tvalid_0's binary_logloss: 0.65883\tvalid_0's binary_logloss: 0.65883\n",
            "[6]\ttraining's binary_logloss: 0.643019\ttraining's binary_logloss: 0.643019\tvalid_0's binary_logloss: 0.651668\tvalid_0's binary_logloss: 0.651668\n",
            "[7]\ttraining's binary_logloss: 0.635502\ttraining's binary_logloss: 0.635502\tvalid_0's binary_logloss: 0.644552\tvalid_0's binary_logloss: 0.644552\n",
            "[8]\ttraining's binary_logloss: 0.628087\ttraining's binary_logloss: 0.628087\tvalid_0's binary_logloss: 0.637668\tvalid_0's binary_logloss: 0.637668\n",
            "[9]\ttraining's binary_logloss: 0.620851\ttraining's binary_logloss: 0.620851\tvalid_0's binary_logloss: 0.630826\tvalid_0's binary_logloss: 0.630826\n",
            "[10]\ttraining's binary_logloss: 0.61371\ttraining's binary_logloss: 0.61371\tvalid_0's binary_logloss: 0.624205\tvalid_0's binary_logloss: 0.624205\n",
            "[11]\ttraining's binary_logloss: 0.606701\ttraining's binary_logloss: 0.606701\tvalid_0's binary_logloss: 0.617748\tvalid_0's binary_logloss: 0.617748\n",
            "[12]\ttraining's binary_logloss: 0.599857\ttraining's binary_logloss: 0.599857\tvalid_0's binary_logloss: 0.611251\tvalid_0's binary_logloss: 0.611251\n",
            "[13]\ttraining's binary_logloss: 0.593101\ttraining's binary_logloss: 0.593101\tvalid_0's binary_logloss: 0.605036\tvalid_0's binary_logloss: 0.605036\n",
            "[14]\ttraining's binary_logloss: 0.586503\ttraining's binary_logloss: 0.586503\tvalid_0's binary_logloss: 0.598779\tvalid_0's binary_logloss: 0.598779\n",
            "[15]\ttraining's binary_logloss: 0.579986\ttraining's binary_logloss: 0.579986\tvalid_0's binary_logloss: 0.592766\tvalid_0's binary_logloss: 0.592766\n",
            "[16]\ttraining's binary_logloss: 0.573585\ttraining's binary_logloss: 0.573585\tvalid_0's binary_logloss: 0.586854\tvalid_0's binary_logloss: 0.586854\n",
            "[17]\ttraining's binary_logloss: 0.567332\ttraining's binary_logloss: 0.567332\tvalid_0's binary_logloss: 0.580971\tvalid_0's binary_logloss: 0.580971\n",
            "[18]\ttraining's binary_logloss: 0.561154\ttraining's binary_logloss: 0.561154\tvalid_0's binary_logloss: 0.575273\tvalid_0's binary_logloss: 0.575273\n",
            "[19]\ttraining's binary_logloss: 0.555118\ttraining's binary_logloss: 0.555118\tvalid_0's binary_logloss: 0.569601\tvalid_0's binary_logloss: 0.569601\n",
            "[20]\ttraining's binary_logloss: 0.549151\ttraining's binary_logloss: 0.549151\tvalid_0's binary_logloss: 0.564106\tvalid_0's binary_logloss: 0.564106\n",
            "[21]\ttraining's binary_logloss: 0.543286\ttraining's binary_logloss: 0.543286\tvalid_0's binary_logloss: 0.558708\tvalid_0's binary_logloss: 0.558708\n",
            "[22]\ttraining's binary_logloss: 0.537556\ttraining's binary_logloss: 0.537556\tvalid_0's binary_logloss: 0.553334\tvalid_0's binary_logloss: 0.553334\n",
            "[23]\ttraining's binary_logloss: 0.531888\ttraining's binary_logloss: 0.531888\tvalid_0's binary_logloss: 0.548135\tvalid_0's binary_logloss: 0.548135\n",
            "[24]\ttraining's binary_logloss: 0.526349\ttraining's binary_logloss: 0.526349\tvalid_0's binary_logloss: 0.542912\tvalid_0's binary_logloss: 0.542912\n",
            "[25]\ttraining's binary_logloss: 0.520896\ttraining's binary_logloss: 0.520896\tvalid_0's binary_logloss: 0.537848\tvalid_0's binary_logloss: 0.537848\n",
            "[26]\ttraining's binary_logloss: 0.515507\ttraining's binary_logloss: 0.515507\tvalid_0's binary_logloss: 0.532906\tvalid_0's binary_logloss: 0.532906\n",
            "[27]\ttraining's binary_logloss: 0.510206\ttraining's binary_logloss: 0.510206\tvalid_0's binary_logloss: 0.528048\tvalid_0's binary_logloss: 0.528048\n",
            "[28]\ttraining's binary_logloss: 0.504993\ttraining's binary_logloss: 0.504993\tvalid_0's binary_logloss: 0.52331\tvalid_0's binary_logloss: 0.52331\n",
            "[29]\ttraining's binary_logloss: 0.499897\ttraining's binary_logloss: 0.499897\tvalid_0's binary_logloss: 0.518518\tvalid_0's binary_logloss: 0.518518\n",
            "[30]\ttraining's binary_logloss: 0.494877\ttraining's binary_logloss: 0.494877\tvalid_0's binary_logloss: 0.513847\tvalid_0's binary_logloss: 0.513847\n",
            "[31]\ttraining's binary_logloss: 0.489913\ttraining's binary_logloss: 0.489913\tvalid_0's binary_logloss: 0.509346\tvalid_0's binary_logloss: 0.509346\n",
            "[32]\ttraining's binary_logloss: 0.485028\ttraining's binary_logloss: 0.485028\tvalid_0's binary_logloss: 0.504885\tvalid_0's binary_logloss: 0.504885\n",
            "[33]\ttraining's binary_logloss: 0.480252\ttraining's binary_logloss: 0.480252\tvalid_0's binary_logloss: 0.500391\tvalid_0's binary_logloss: 0.500391\n",
            "[34]\ttraining's binary_logloss: 0.475546\ttraining's binary_logloss: 0.475546\tvalid_0's binary_logloss: 0.496047\tvalid_0's binary_logloss: 0.496047\n",
            "[35]\ttraining's binary_logloss: 0.470889\ttraining's binary_logloss: 0.470889\tvalid_0's binary_logloss: 0.491804\tvalid_0's binary_logloss: 0.491804\n",
            "[36]\ttraining's binary_logloss: 0.466305\ttraining's binary_logloss: 0.466305\tvalid_0's binary_logloss: 0.487643\tvalid_0's binary_logloss: 0.487643\n",
            "[37]\ttraining's binary_logloss: 0.461824\ttraining's binary_logloss: 0.461824\tvalid_0's binary_logloss: 0.483437\tvalid_0's binary_logloss: 0.483437\n",
            "[38]\ttraining's binary_logloss: 0.457381\ttraining's binary_logloss: 0.457381\tvalid_0's binary_logloss: 0.479434\tvalid_0's binary_logloss: 0.479434\n",
            "[39]\ttraining's binary_logloss: 0.45303\ttraining's binary_logloss: 0.45303\tvalid_0's binary_logloss: 0.475318\tvalid_0's binary_logloss: 0.475318\n",
            "[40]\ttraining's binary_logloss: 0.448747\ttraining's binary_logloss: 0.448747\tvalid_0's binary_logloss: 0.471382\tvalid_0's binary_logloss: 0.471382\n",
            "[41]\ttraining's binary_logloss: 0.444537\ttraining's binary_logloss: 0.444537\tvalid_0's binary_logloss: 0.46744\tvalid_0's binary_logloss: 0.46744\n",
            "[42]\ttraining's binary_logloss: 0.440359\ttraining's binary_logloss: 0.440359\tvalid_0's binary_logloss: 0.463692\tvalid_0's binary_logloss: 0.463692\n",
            "[43]\ttraining's binary_logloss: 0.436246\ttraining's binary_logloss: 0.436246\tvalid_0's binary_logloss: 0.459969\tvalid_0's binary_logloss: 0.459969\n",
            "[44]\ttraining's binary_logloss: 0.432224\ttraining's binary_logloss: 0.432224\tvalid_0's binary_logloss: 0.456224\tvalid_0's binary_logloss: 0.456224\n",
            "[45]\ttraining's binary_logloss: 0.428257\ttraining's binary_logloss: 0.428257\tvalid_0's binary_logloss: 0.452558\tvalid_0's binary_logloss: 0.452558\n",
            "[46]\ttraining's binary_logloss: 0.424348\ttraining's binary_logloss: 0.424348\tvalid_0's binary_logloss: 0.448904\tvalid_0's binary_logloss: 0.448904\n",
            "[47]\ttraining's binary_logloss: 0.420474\ttraining's binary_logloss: 0.420474\tvalid_0's binary_logloss: 0.445412\tvalid_0's binary_logloss: 0.445412\n",
            "[48]\ttraining's binary_logloss: 0.416687\ttraining's binary_logloss: 0.416687\tvalid_0's binary_logloss: 0.441932\tvalid_0's binary_logloss: 0.441932\n",
            "[49]\ttraining's binary_logloss: 0.412927\ttraining's binary_logloss: 0.412927\tvalid_0's binary_logloss: 0.438548\tvalid_0's binary_logloss: 0.438548\n",
            "[50]\ttraining's binary_logloss: 0.409252\ttraining's binary_logloss: 0.409252\tvalid_0's binary_logloss: 0.435129\tvalid_0's binary_logloss: 0.435129\n",
            "[51]\ttraining's binary_logloss: 0.405626\ttraining's binary_logloss: 0.405626\tvalid_0's binary_logloss: 0.431827\tvalid_0's binary_logloss: 0.431827\n",
            "[52]\ttraining's binary_logloss: 0.402027\ttraining's binary_logloss: 0.402027\tvalid_0's binary_logloss: 0.428597\tvalid_0's binary_logloss: 0.428597\n",
            "[53]\ttraining's binary_logloss: 0.398503\ttraining's binary_logloss: 0.398503\tvalid_0's binary_logloss: 0.425293\tvalid_0's binary_logloss: 0.425293\n",
            "[54]\ttraining's binary_logloss: 0.395038\ttraining's binary_logloss: 0.395038\tvalid_0's binary_logloss: 0.422093\tvalid_0's binary_logloss: 0.422093\n",
            "[55]\ttraining's binary_logloss: 0.391593\ttraining's binary_logloss: 0.391593\tvalid_0's binary_logloss: 0.419045\tvalid_0's binary_logloss: 0.419045\n",
            "[56]\ttraining's binary_logloss: 0.388227\ttraining's binary_logloss: 0.388227\tvalid_0's binary_logloss: 0.415928\tvalid_0's binary_logloss: 0.415928\n",
            "[57]\ttraining's binary_logloss: 0.38488\ttraining's binary_logloss: 0.38488\tvalid_0's binary_logloss: 0.412973\tvalid_0's binary_logloss: 0.412973\n",
            "[58]\ttraining's binary_logloss: 0.381602\ttraining's binary_logloss: 0.381602\tvalid_0's binary_logloss: 0.409894\tvalid_0's binary_logloss: 0.409894\n",
            "[59]\ttraining's binary_logloss: 0.378373\ttraining's binary_logloss: 0.378373\tvalid_0's binary_logloss: 0.406939\tvalid_0's binary_logloss: 0.406939\n",
            "[60]\ttraining's binary_logloss: 0.375196\ttraining's binary_logloss: 0.375196\tvalid_0's binary_logloss: 0.404054\tvalid_0's binary_logloss: 0.404054\n",
            "[61]\ttraining's binary_logloss: 0.372033\ttraining's binary_logloss: 0.372033\tvalid_0's binary_logloss: 0.40124\tvalid_0's binary_logloss: 0.40124\n",
            "[62]\ttraining's binary_logloss: 0.368914\ttraining's binary_logloss: 0.368914\tvalid_0's binary_logloss: 0.398482\tvalid_0's binary_logloss: 0.398482\n",
            "[63]\ttraining's binary_logloss: 0.365869\ttraining's binary_logloss: 0.365869\tvalid_0's binary_logloss: 0.395712\tvalid_0's binary_logloss: 0.395712\n",
            "[64]\ttraining's binary_logloss: 0.362837\ttraining's binary_logloss: 0.362837\tvalid_0's binary_logloss: 0.393022\tvalid_0's binary_logloss: 0.393022\n",
            "[65]\ttraining's binary_logloss: 0.359876\ttraining's binary_logloss: 0.359876\tvalid_0's binary_logloss: 0.390299\tvalid_0's binary_logloss: 0.390299\n",
            "[66]\ttraining's binary_logloss: 0.356949\ttraining's binary_logloss: 0.356949\tvalid_0's binary_logloss: 0.387593\tvalid_0's binary_logloss: 0.387593\n",
            "[67]\ttraining's binary_logloss: 0.35407\ttraining's binary_logloss: 0.35407\tvalid_0's binary_logloss: 0.384963\tvalid_0's binary_logloss: 0.384963\n",
            "[68]\ttraining's binary_logloss: 0.351225\ttraining's binary_logloss: 0.351225\tvalid_0's binary_logloss: 0.382414\tvalid_0's binary_logloss: 0.382414\n",
            "[69]\ttraining's binary_logloss: 0.348395\ttraining's binary_logloss: 0.348395\tvalid_0's binary_logloss: 0.379916\tvalid_0's binary_logloss: 0.379916\n",
            "[70]\ttraining's binary_logloss: 0.345604\ttraining's binary_logloss: 0.345604\tvalid_0's binary_logloss: 0.377469\tvalid_0's binary_logloss: 0.377469\n",
            "[71]\ttraining's binary_logloss: 0.34288\ttraining's binary_logloss: 0.34288\tvalid_0's binary_logloss: 0.374978\tvalid_0's binary_logloss: 0.374978\n",
            "[72]\ttraining's binary_logloss: 0.340185\ttraining's binary_logloss: 0.340185\tvalid_0's binary_logloss: 0.372496\tvalid_0's binary_logloss: 0.372496\n",
            "[73]\ttraining's binary_logloss: 0.337534\ttraining's binary_logloss: 0.337534\tvalid_0's binary_logloss: 0.370077\tvalid_0's binary_logloss: 0.370077\n",
            "[74]\ttraining's binary_logloss: 0.33489\ttraining's binary_logloss: 0.33489\tvalid_0's binary_logloss: 0.367756\tvalid_0's binary_logloss: 0.367756\n",
            "[75]\ttraining's binary_logloss: 0.332311\ttraining's binary_logloss: 0.332311\tvalid_0's binary_logloss: 0.365454\tvalid_0's binary_logloss: 0.365454\n",
            "[76]\ttraining's binary_logloss: 0.329737\ttraining's binary_logloss: 0.329737\tvalid_0's binary_logloss: 0.363199\tvalid_0's binary_logloss: 0.363199\n",
            "[77]\ttraining's binary_logloss: 0.327227\ttraining's binary_logloss: 0.327227\tvalid_0's binary_logloss: 0.360953\tvalid_0's binary_logloss: 0.360953\n",
            "[78]\ttraining's binary_logloss: 0.324721\ttraining's binary_logloss: 0.324721\tvalid_0's binary_logloss: 0.358763\tvalid_0's binary_logloss: 0.358763\n",
            "[79]\ttraining's binary_logloss: 0.32227\ttraining's binary_logloss: 0.32227\tvalid_0's binary_logloss: 0.356494\tvalid_0's binary_logloss: 0.356494\n",
            "[80]\ttraining's binary_logloss: 0.319859\ttraining's binary_logloss: 0.319859\tvalid_0's binary_logloss: 0.354308\tvalid_0's binary_logloss: 0.354308\n",
            "[81]\ttraining's binary_logloss: 0.317475\ttraining's binary_logloss: 0.317475\tvalid_0's binary_logloss: 0.352201\tvalid_0's binary_logloss: 0.352201\n",
            "[82]\ttraining's binary_logloss: 0.315098\ttraining's binary_logloss: 0.315098\tvalid_0's binary_logloss: 0.350132\tvalid_0's binary_logloss: 0.350132\n",
            "[83]\ttraining's binary_logloss: 0.312782\ttraining's binary_logloss: 0.312782\tvalid_0's binary_logloss: 0.34805\tvalid_0's binary_logloss: 0.34805\n",
            "[84]\ttraining's binary_logloss: 0.310466\ttraining's binary_logloss: 0.310466\tvalid_0's binary_logloss: 0.346076\tvalid_0's binary_logloss: 0.346076\n",
            "[85]\ttraining's binary_logloss: 0.308202\ttraining's binary_logloss: 0.308202\tvalid_0's binary_logloss: 0.34397\tvalid_0's binary_logloss: 0.34397\n",
            "[86]\ttraining's binary_logloss: 0.305976\ttraining's binary_logloss: 0.305976\tvalid_0's binary_logloss: 0.342001\tvalid_0's binary_logloss: 0.342001\n",
            "[87]\ttraining's binary_logloss: 0.303749\ttraining's binary_logloss: 0.303749\tvalid_0's binary_logloss: 0.340075\tvalid_0's binary_logloss: 0.340075\n",
            "[88]\ttraining's binary_logloss: 0.301581\ttraining's binary_logloss: 0.301581\tvalid_0's binary_logloss: 0.338142\tvalid_0's binary_logloss: 0.338142\n",
            "[89]\ttraining's binary_logloss: 0.299411\ttraining's binary_logloss: 0.299411\tvalid_0's binary_logloss: 0.33627\tvalid_0's binary_logloss: 0.33627\n",
            "[90]\ttraining's binary_logloss: 0.297298\ttraining's binary_logloss: 0.297298\tvalid_0's binary_logloss: 0.334422\tvalid_0's binary_logloss: 0.334422\n",
            "[91]\ttraining's binary_logloss: 0.295184\ttraining's binary_logloss: 0.295184\tvalid_0's binary_logloss: 0.332601\tvalid_0's binary_logloss: 0.332601\n",
            "[92]\ttraining's binary_logloss: 0.293126\ttraining's binary_logloss: 0.293126\tvalid_0's binary_logloss: 0.330795\tvalid_0's binary_logloss: 0.330795\n",
            "[93]\ttraining's binary_logloss: 0.291085\ttraining's binary_logloss: 0.291085\tvalid_0's binary_logloss: 0.328903\tvalid_0's binary_logloss: 0.328903\n",
            "[94]\ttraining's binary_logloss: 0.28908\ttraining's binary_logloss: 0.28908\tvalid_0's binary_logloss: 0.327122\tvalid_0's binary_logloss: 0.327122\n",
            "[95]\ttraining's binary_logloss: 0.28707\ttraining's binary_logloss: 0.28707\tvalid_0's binary_logloss: 0.325438\tvalid_0's binary_logloss: 0.325438\n",
            "[96]\ttraining's binary_logloss: 0.285116\ttraining's binary_logloss: 0.285116\tvalid_0's binary_logloss: 0.323696\tvalid_0's binary_logloss: 0.323696\n",
            "[97]\ttraining's binary_logloss: 0.283157\ttraining's binary_logloss: 0.283157\tvalid_0's binary_logloss: 0.322041\tvalid_0's binary_logloss: 0.322041\n",
            "[98]\ttraining's binary_logloss: 0.281243\ttraining's binary_logloss: 0.281243\tvalid_0's binary_logloss: 0.320269\tvalid_0's binary_logloss: 0.320269\n",
            "[99]\ttraining's binary_logloss: 0.279362\ttraining's binary_logloss: 0.279362\tvalid_0's binary_logloss: 0.318636\tvalid_0's binary_logloss: 0.318636\n",
            "[100]\ttraining's binary_logloss: 0.277499\ttraining's binary_logloss: 0.277499\tvalid_0's binary_logloss: 0.316989\tvalid_0's binary_logloss: 0.316989\n"
          ]
        },
        {
          "output_type": "execute_result",
          "data": {
            "text/plain": [
              "LGBMClassifier(boosting_type='gbdt', class_weight=None, colsample_bytree=1.0,\n",
              "               importance_type='split', learning_rate=0.01, max_depth=-5,\n",
              "               min_child_samples=20, min_child_weight=0.001, min_split_gain=0.0,\n",
              "               n_estimators=100, n_jobs=-1, num_leaves=31, objective=None,\n",
              "               random_state=42, reg_alpha=0.0, reg_lambda=0.0, silent=True,\n",
              "               subsample=1.0, subsample_for_bin=200000, subsample_freq=0)"
            ]
          },
          "metadata": {},
          "execution_count": 91
        }
      ]
    },
    {
      "cell_type": "code",
      "metadata": {
        "colab": {
          "base_uri": "https://localhost:8080/"
        },
        "id": "InZ9cJEVmnrU",
        "outputId": "61a7f5c5-df46-4e82-e118-7c92404e437d"
      },
      "source": [
        "print('Training accuracy {:.4f}'.format(model.score(xgb_train,ygb_train)))"
      ],
      "execution_count": null,
      "outputs": [
        {
          "output_type": "stream",
          "name": "stdout",
          "text": [
            "Training accuracy 0.9556\n"
          ]
        }
      ]
    },
    {
      "cell_type": "code",
      "metadata": {
        "colab": {
          "base_uri": "https://localhost:8080/"
        },
        "id": "hV4o09eunHwT",
        "outputId": "fee03e9e-3911-446b-8343-c790a4b31c61"
      },
      "source": [
        "print('Testing accuracy {:.4f}'.format(model.score(xgb_test,ygb_test)))"
      ],
      "execution_count": null,
      "outputs": [
        {
          "output_type": "stream",
          "name": "stdout",
          "text": [
            "Testing accuracy 0.9268\n"
          ]
        }
      ]
    },
    {
      "cell_type": "code",
      "metadata": {
        "colab": {
          "base_uri": "https://localhost:8080/",
          "height": 312
        },
        "id": "D9NGJj_lpGpv",
        "outputId": "64b6615e-1dff-424e-be11-9e53ebc3a20e"
      },
      "source": [
        "import lightgbm as lgb\n",
        "lgb.plot_importance(model)"
      ],
      "execution_count": null,
      "outputs": [
        {
          "output_type": "execute_result",
          "data": {
            "text/plain": [
              "<matplotlib.axes._subplots.AxesSubplot at 0x7fb70c5c5890>"
            ]
          },
          "metadata": {},
          "execution_count": 94
        },
        {
          "output_type": "display_data",
          "data": {
            "image/png": "[encoded data removed]",
            "text/plain": [
              "<Figure size 432x288 with 1 Axes>"
            ]
          },
          "metadata": {
            "needs_background": "light"
          }
        }
      ]
    },
    {
      "cell_type": "code",
      "metadata": {
        "colab": {
          "base_uri": "https://localhost:8080/",
          "height": 614
        },
        "id": "o95Cu0eTpNnW",
        "outputId": "4020992e-3cb2-4071-ab67-494560267909"
      },
      "source": [
        "lgb.plot_tree(model,figsize=(30,40))"
      ],
      "execution_count": null,
      "outputs": [
        {
          "output_type": "execute_result",
          "data": {
            "text/plain": [
              "<matplotlib.axes._subplots.AxesSubplot at 0x7fb70c5b7290>"
            ]
          },
          "metadata": {},
          "execution_count": 95
        },
        {
          "output_type": "display_data",
          "data": {
            "image/png": "[encoded data removed]",
            "text/plain": [
              "<Figure size 2160x2880 with 1 Axes>"
            ]
          },
          "metadata": {
            "needs_background": "light"
          }
        }
      ]
    },
    {
      "cell_type": "code",
      "metadata": {
        "colab": {
          "base_uri": "https://localhost:8080/",
          "height": 296
        },
        "id": "OKuwwHMepVv2",
        "outputId": "79447f03-938d-47cc-d4d0-e7e72889bc73"
      },
      "source": [
        "class_names = np.array(['Demented', 'Nondemented'])\n",
        "metrics.plot_confusion_matrix(model,xgb_test,ygb_test,cmap='Blues_r', display_labels=class_names)"
      ],
      "execution_count": null,
      "outputs": [
        {
          "output_type": "execute_result",
          "data": {
            "text/plain": [
              "<sklearn.metrics._plot.confusion_matrix.ConfusionMatrixDisplay at 0x7fb70c53fbd0>"
            ]
          },
          "metadata": {},
          "execution_count": 96
        },
        {
          "output_type": "display_data",
          "data": {
            "image/png": "[encoded data removed]",
            "text/plain": [
              "<Figure size 432x288 with 2 Axes>"
            ]
          },
          "metadata": {
            "needs_background": "light"
          }
        }
      ]
    },
    {
      "cell_type": "code",
      "metadata": {
        "colab": {
          "base_uri": "https://localhost:8080/"
        },
        "id": "B_CCNQ9Cpwdf",
        "outputId": "a17814cd-70eb-4c31-a431-10c5b456eff3"
      },
      "source": [
        "print(metrics.classification_report(ygb_test,model.predict(xgb_test)))"
      ],
      "execution_count": null,
      "outputs": [
        {
          "output_type": "stream",
          "name": "stdout",
          "text": [
            "              precision    recall  f1-score   support\n",
            "\n",
            "           0       0.98      0.88      0.93        64\n",
            "           1       0.88      0.98      0.93        59\n",
            "\n",
            "    accuracy                           0.93       123\n",
            "   macro avg       0.93      0.93      0.93       123\n",
            "weighted avg       0.93      0.93      0.93       123\n",
            "\n"
          ]
        }
      ]
    },
    {
      "cell_type": "markdown",
      "metadata": {
        "id": "Hkwrb4LE0RaL"
      },
      "source": [
        "**Referencias**\n",
        "\n",
        "*   Brosch, JR, et al. Early-onset dementia in adults. https://www.uptodate.com/contents/search. Accessed Dec. 4, 2019.\n",
        "*   M. Tanveer, B. Richhariya, R.U. Khan, A.H. Rashid, P. Khanna, M. Prasad, and C.T. Lin. 2020. Machine learning techniques for the\n",
        "diagnosis of Alzheimer’s disease: A review. ACM Trans. Multimedia Comput. Commun. Appl. 16, 1s, Article 30 (April 2020), 28 pages.\n",
        "https://doi.org/https://doi.org/10.1145/3344998\n"
      ]
    }
  ]
}